{
 "cells": [
  {
   "cell_type": "code",
   "execution_count": 1,
   "id": "e2600e4d",
   "metadata": {},
   "outputs": [],
   "source": [
    "from random import *\n",
    "\n",
    "\n",
    "class Game: #A class for managing different situations and states happening in the game and on the board\n",
    "    def __init__(self, Mat, dimX, dimY):\n",
    "        self.Mat = Mat\n",
    "        self.dimX = dimX\n",
    "        self.dimY = dimY\n",
    "\n",
    "    def Initiate(self): #initiating the game board with X and Y dimensions\n",
    "        for i in range(0, self.dimY):\n",
    "            R = []\n",
    "            for j in range (0, self.dimX):\n",
    "                if i % 2 == 1 and j % 2 == 1:\n",
    "                    R.append(randint(1, 9))  # Assigning a random number from 1 to 9 to the spots in the board as the points\n",
    "                elif i % 2 == 0 and j % 2 == 0:\n",
    "                    R.append('*') # printing asterisks as the dots in the board\n",
    "                else:\n",
    "                    R.append(' ') # adding extra space for actions in the game\n",
    "            self.Mat.append(R)\n",
    "\n",
    "    def Get_matrix(self): # Board matrix\n",
    "        ans = []\n",
    "        for i in range(0, self.dimY):\n",
    "            R = []\n",
    "            for j in range(0, self.dimX):\n",
    "                R.append(self.Mat[i][j])\n",
    "            ans.append(R)\n",
    "        return ans\n",
    "\n",
    "    def Draw_mat(self): # Drawing the board marix as dots and lines\n",
    "        \n",
    "        if self.dimX > 9:\n",
    "            print(\" \", end='')\n",
    "        print(\"   \", end='')\n",
    "        for i in range(0, self.dimX):\n",
    "            print(str(i), end='  ')\n",
    "        print()\n",
    "\n",
    "        if self.dimX > 9:\n",
    "            print(\" \", end='')\n",
    "        print(\"   \", end='')\n",
    "        for i in range(0, self.dimX + 1):\n",
    "            print(\"___\", end='')\n",
    "        print()\n",
    "        for j in range(self.dimY):\n",
    "            if self.dimX > 9 and j < 10:\n",
    "                print(\" \", end='')\n",
    "            print(str(j) + \"| \", end='')\n",
    "            for z in range(self.dimX):\n",
    "                print(str(self.Mat[j][z]), end='  ')\n",
    "            print()\n",
    "        print(\"   ________________________\\n\")\n",
    "\n",
    "    def Get_currentState(self):\n",
    "        return Game(self.Get_matrix(), self.dimX, self.dimY)\n",
    "\n",
    "    def action(self, i, j): # Applying the actions made by the human or the computer\n",
    "        Sum = 0\n",
    "\n",
    "        if j % 2 == 0 and i % 2 == 1:\n",
    "            self.Mat[j][i] = '-'\n",
    "            if j < self.dimY - 1:\n",
    "                if self.Mat[j+2][i] == '-' and self.Mat[j+1][i+1] == '|' and self.Mat[j+1][i-1] == '|':\n",
    "                    Sum += self.Mat[j+1][i]\n",
    "            if j > 0:\n",
    "                if self.Mat[j-2][i] == '-' and self.Mat[j-1][i+1] == '|' and self.Mat[j-1][i-1] == '|':\n",
    "                    Sum += self.Mat[j-1][i]\n",
    "\n",
    "        else:\n",
    "            self.Mat[j][i] = '|'\n",
    "            if i < self.dimX - 1:\n",
    "                if self.Mat[j][i+2] == '|' and self.Mat[j+1][i+1] == '-' and self.Mat[j-1][i+1] == '-':\n",
    "                    Sum += self.Mat[j][i+1]\n",
    "            if i > 0:\n",
    "                if self.Mat[j][i-2] == '|' and self.Mat[j+1][i-1] == '-' and self.Mat[j-1][i-1] == '-':\n",
    "                    Sum += self.Mat[j][i-1]\n",
    "        return Sum\n"
   ]
  },
  {
   "cell_type": "code",
   "execution_count": 2,
   "id": "3416d396",
   "metadata": {},
   "outputs": [],
   "source": [
    "\n",
    "class Algo: # A class for defining algorithms used (minimax and alpha-beta pruning)\n",
    "    \n",
    "    def miniMax(State, depth): # Function for the minimax algorithm\n",
    "\n",
    "        for i in range(State.Current.dimY):\n",
    "            for j in range(State.Current.dimX):\n",
    "                if State.Current.Mat[i][j] == ' ' and (j, i) not in State.children:\n",
    "                    State.Make(j, i, True)\n",
    "                    if depth < 2:\n",
    "                        return (i, j)\n",
    "\n",
    "        Minimum_Score = 1000\n",
    "        i = 0\n",
    "        j = 0\n",
    "        for k, z in State.children.items():\n",
    "            Result = Algo.Maximum(z, depth - 1, Minimum_Score)\n",
    "            if Minimum_Score > Result:\n",
    "                Minimum_Score = Result\n",
    "                i = k[0]\n",
    "                j = k[1]\n",
    "\n",
    "        return (i, j)\n",
    "\n",
    "\n",
    "    def Maximum(State, depth, Alpha): # Alpha-beta pruning function for taking care of Alpha values\n",
    "        if depth == 0:\n",
    "            return State.CurrentScore\n",
    "\n",
    "        for i in range(State.Current.dimY):\n",
    "            for j in range(State.Current.dimX):\n",
    "                if State.Current.Mat[i][j] == ' ' and (j, i) not in State.children:\n",
    "                    State.Make(j, i, False)\n",
    "\n",
    "        Maximum_Score = -1000\n",
    "        i = 0\n",
    "        j = 0\n",
    "        for k, z in State.children.items():\n",
    "            Result = Algo.Minimum(z, depth - 1, Maximum_Score)\n",
    "            if Maximum_Score < Result:\n",
    "                Maximum_Score = Result\n",
    "            if Result > Alpha:\n",
    "                return Result\n",
    "\n",
    "        return Maximum_Score\n",
    "\n",
    "\n",
    "    def Minimum(State, depth, Beta): # Alpha-beta pruning function for taking care of Beta values\n",
    "        if depth == 0:\n",
    "            return State.CurrentScore\n",
    "\n",
    "        for i in range(State.Current.dimY):\n",
    "            for j in range(State.Current.dimX):\n",
    "                if State.Current.Mat[i][j] == ' ' and (j, i) not in State.children:\n",
    "                    State.Make(j, i, True)\n",
    "\n",
    "        Minimum_Score = 1000\n",
    "        i = 0\n",
    "        j = 0\n",
    "        for k, z in State.children.items():\n",
    "            Result = Algo.Maximum(z, depth - 1, Minimum_Score)\n",
    "            if Minimum_Score > Result:\n",
    "                Minimum_Score = Result\n",
    "            if Result < Beta:\n",
    "                return Result\n",
    "\n",
    "        return Minimum_Score\n"
   ]
  },
  {
   "cell_type": "code",
   "execution_count": 4,
   "id": "a4d6bef3",
   "metadata": {},
   "outputs": [],
   "source": [
    "class Thing: # A class for Node related operations\n",
    "    def __init__(self, currentState):\n",
    "        self.Current = currentState\n",
    "        self.CurrentScore = 0\n",
    "        self.children = {}\n",
    "\n",
    "    def Make(self, i, j, player): # Function for generating a child node\n",
    "        self.children[(i, j)] = Thing(self.Current.Get_currentState())\n",
    "        mul = 1\n",
    "        if player:\n",
    "            mul *= -1\n",
    "        self.children[(i, j)].CurrentScore = (self.children[(i, j)].Current.action(i, j) * mul) + self.CurrentScore\n",
    "\n",
    "    def Populate(self, i, j, Child): # Function for adding a node\n",
    "        self.children[(i,j)] = Child\n",
    "\n",
    "    def Draw(self): # function for drawing the board\n",
    "        self.Current.Draw_mat()\n"
   ]
  },
  {
   "cell_type": "code",
   "execution_count": 3,
   "id": "42fc1577",
   "metadata": {},
   "outputs": [
    {
     "name": "stdout",
     "output_type": "stream",
     "text": [
      " * Serving Flask app '__main__'\n",
      " * Debug mode: off\n"
     ]
    },
    {
     "name": "stderr",
     "output_type": "stream",
     "text": [
      "WARNING: This is a development server. Do not use it in a production deployment. Use a production WSGI server instead.\n",
      " * Running on all addresses (0.0.0.0)\n",
      " * Running on http://127.0.0.1:4000\n",
      " * Running on http://192.168.1.7:4000\n",
      "Press CTRL+C to quit\n",
      "192.168.1.7 - - [18/Mar/2024 20:00:16] \"POST /start HTTP/1.1\" 200 -\n"
     ]
    },
    {
     "name": "stdout",
     "output_type": "stream",
     "text": [
      "   0  1  2  3  4  5  6  \n",
      "   ________________________\n",
      "0| *     *     *     *  \n",
      "1|    9     2     4     \n",
      "2| *     *     *     *  \n",
      "3|    8     3     1     \n",
      "4| *     *     *     *  \n",
      "5|    2     1     7     \n",
      "6| *     *     *     *  \n",
      "   _________________________\n",
      "\n"
     ]
    },
    {
     "name": "stderr",
     "output_type": "stream",
     "text": [
      "192.168.1.7 - - [18/Mar/2024 20:00:17] \"POST /move HTTP/1.1\" 200 -\n"
     ]
    },
    {
     "name": "stdout",
     "output_type": "stream",
     "text": [
      "   0  1  2  3  4  5  6  \n",
      "   ________________________\n",
      "0| *  -  *     *     *  \n",
      "1|    9     2     4     \n",
      "2| *     *  -  *     *  \n",
      "3|    8     3     1     \n",
      "4| *     *     *     *  \n",
      "5|    2     1     7     \n",
      "6| *     *     *     *  \n",
      "   _________________________\n",
      "\n"
     ]
    },
    {
     "name": "stderr",
     "output_type": "stream",
     "text": [
      "192.168.1.7 - - [18/Mar/2024 20:00:21] \"POST /move HTTP/1.1\" 200 -\n"
     ]
    },
    {
     "name": "stdout",
     "output_type": "stream",
     "text": [
      "   0  1  2  3  4  5  6  \n",
      "   ________________________\n",
      "0| *  -  *  -  *     *  \n",
      "1|    9     2     4     \n",
      "2| *     *  -  *     *  \n",
      "3|    8     3     1     \n",
      "4| *     *  -  *     *  \n",
      "5|    2     1     7     \n",
      "6| *     *     *     *  \n",
      "   _________________________\n",
      "\n"
     ]
    },
    {
     "name": "stderr",
     "output_type": "stream",
     "text": [
      "192.168.1.7 - - [18/Mar/2024 20:00:22] \"POST /move HTTP/1.1\" 200 -\n"
     ]
    },
    {
     "name": "stdout",
     "output_type": "stream",
     "text": [
      "   0  1  2  3  4  5  6  \n",
      "   ________________________\n",
      "0| *  -  *  -  *  -  *  \n",
      "1|    9     2     4     \n",
      "2| *     *  -  *     *  \n",
      "3|    8     3     1     \n",
      "4| *     *  -  *     *  \n",
      "5|    2     1     7     \n",
      "6| *     *  -  *     *  \n",
      "   _________________________\n",
      "\n"
     ]
    },
    {
     "name": "stderr",
     "output_type": "stream",
     "text": [
      "192.168.1.7 - - [18/Mar/2024 20:00:24] \"POST /move HTTP/1.1\" 200 -\n"
     ]
    },
    {
     "name": "stdout",
     "output_type": "stream",
     "text": [
      "   0  1  2  3  4  5  6  \n",
      "   ________________________\n",
      "0| *  -  *  -  *  -  *  \n",
      "1| |  9     2     4     \n",
      "2| *     *  -  *     *  \n",
      "3|    8     3     1     \n",
      "4| *     *  -  *     *  \n",
      "5|    2     1     7     \n",
      "6| *     *  -  *  -  *  \n",
      "   _________________________\n",
      "\n"
     ]
    },
    {
     "name": "stderr",
     "output_type": "stream",
     "text": [
      "192.168.1.7 - - [18/Mar/2024 20:00:26] \"POST /move HTTP/1.1\" 200 -\n"
     ]
    },
    {
     "name": "stdout",
     "output_type": "stream",
     "text": [
      "   0  1  2  3  4  5  6  \n",
      "   ________________________\n",
      "0| *  -  *  -  *  -  *  \n",
      "1| |  9     2     4  |  \n",
      "2| *     *  -  *     *  \n",
      "3|    8     3     1     \n",
      "4| *     *  -  *     *  \n",
      "5|    2     1     7  |  \n",
      "6| *     *  -  *  -  *  \n",
      "   _________________________\n",
      "\n"
     ]
    },
    {
     "name": "stderr",
     "output_type": "stream",
     "text": [
      "192.168.1.7 - - [18/Mar/2024 20:00:27] \"POST /move HTTP/1.1\" 200 -\n"
     ]
    },
    {
     "name": "stdout",
     "output_type": "stream",
     "text": [
      "   0  1  2  3  4  5  6  \n",
      "   ________________________\n",
      "0| *  -  *  -  *  -  *  \n",
      "1| |  9     2     4  |  \n",
      "2| *     *  -  *     *  \n",
      "3| |  8     3     1  |  \n",
      "4| *     *  -  *     *  \n",
      "5|    2     1     7  |  \n",
      "6| *     *  -  *  -  *  \n",
      "   _________________________\n",
      "\n"
     ]
    },
    {
     "name": "stderr",
     "output_type": "stream",
     "text": [
      "192.168.1.7 - - [18/Mar/2024 20:00:29] \"POST /move HTTP/1.1\" 200 -\n"
     ]
    },
    {
     "name": "stdout",
     "output_type": "stream",
     "text": [
      "   0  1  2  3  4  5  6  \n",
      "   ________________________\n",
      "0| *  -  *  -  *  -  *  \n",
      "1| |  9     2     4  |  \n",
      "2| *     *  -  *     *  \n",
      "3| |  8     3     1  |  \n",
      "4| *  -  *  -  *     *  \n",
      "5| |  2     1     7  |  \n",
      "6| *     *  -  *  -  *  \n",
      "   _________________________\n",
      "\n"
     ]
    },
    {
     "name": "stderr",
     "output_type": "stream",
     "text": [
      "192.168.1.7 - - [18/Mar/2024 20:00:31] \"POST /move HTTP/1.1\" 200 -\n"
     ]
    },
    {
     "name": "stdout",
     "output_type": "stream",
     "text": [
      "   0  1  2  3  4  5  6  \n",
      "   ________________________\n",
      "0| *  -  *  -  *  -  *  \n",
      "1| |  9     2     4  |  \n",
      "2| *     *  -  *     *  \n",
      "3| |  8     3     1  |  \n",
      "4| *  -  *  -  *     *  \n",
      "5| |  2  |  1     7  |  \n",
      "6| *  -  *  -  *  -  *  \n",
      "   _________________________\n",
      "\n"
     ]
    },
    {
     "name": "stderr",
     "output_type": "stream",
     "text": [
      "192.168.1.7 - - [18/Mar/2024 20:00:32] \"POST /move HTTP/1.1\" 200 -\n"
     ]
    },
    {
     "name": "stdout",
     "output_type": "stream",
     "text": [
      "   0  1  2  3  4  5  6  \n",
      "   ________________________\n",
      "0| *  -  *  -  *  -  *  \n",
      "1| |  9     2     4  |  \n",
      "2| *     *  -  *     *  \n",
      "3| |  8     3  |  1  |  \n",
      "4| *  -  *  -  *     *  \n",
      "5| |  2  |  1     7  |  \n",
      "6| *  -  *  -  *  -  *  \n",
      "   _________________________\n",
      "\n"
     ]
    },
    {
     "name": "stderr",
     "output_type": "stream",
     "text": [
      "192.168.1.7 - - [18/Mar/2024 20:00:37] \"POST /move HTTP/1.1\" 200 -\n"
     ]
    },
    {
     "name": "stdout",
     "output_type": "stream",
     "text": [
      "   0  1  2  3  4  5  6  \n",
      "   ________________________\n",
      "0| *  -  *  -  *  -  *  \n",
      "1| |  9     2  |  4  |  \n",
      "2| *     *  -  *  -  *  \n",
      "3| |  8     3  |  1  |  \n",
      "4| *  -  *  -  *     *  \n",
      "5| |  2  |  1     7  |  \n",
      "6| *  -  *  -  *  -  *  \n",
      "   _________________________\n",
      "\n"
     ]
    },
    {
     "name": "stderr",
     "output_type": "stream",
     "text": [
      "192.168.1.7 - - [18/Mar/2024 20:00:38] \"POST /move HTTP/1.1\" 200 -\n"
     ]
    },
    {
     "name": "stdout",
     "output_type": "stream",
     "text": [
      "   0  1  2  3  4  5  6  \n",
      "   ________________________\n",
      "0| *  -  *  -  *  -  *  \n",
      "1| |  9     2  |  4  |  \n",
      "2| *     *  -  *  -  *  \n",
      "3| |  8  |  3  |  1  |  \n",
      "4| *  -  *  -  *     *  \n",
      "5| |  2  |  1     7  |  \n",
      "6| *  -  *  -  *  -  *  \n",
      "   _________________________\n",
      "\n"
     ]
    },
    {
     "name": "stderr",
     "output_type": "stream",
     "text": [
      "192.168.1.7 - - [18/Mar/2024 20:00:39] \"POST /move HTTP/1.1\" 200 -\n"
     ]
    },
    {
     "name": "stdout",
     "output_type": "stream",
     "text": [
      "   0  1  2  3  4  5  6  \n",
      "   ________________________\n",
      "0| *  -  *  -  *  -  *  \n",
      "1| |  9     2  |  4  |  \n",
      "2| *  -  *  -  *  -  *  \n",
      "3| |  8  |  3  |  1  |  \n",
      "4| *  -  *  -  *     *  \n",
      "5| |  2  |  1     7  |  \n",
      "6| *  -  *  -  *  -  *  \n",
      "   _________________________\n",
      "\n"
     ]
    },
    {
     "name": "stderr",
     "output_type": "stream",
     "text": [
      "192.168.1.7 - - [18/Mar/2024 20:00:40] \"POST /move HTTP/1.1\" 200 -\n"
     ]
    },
    {
     "name": "stdout",
     "output_type": "stream",
     "text": [
      "   0  1  2  3  4  5  6  \n",
      "   ________________________\n",
      "0| *  -  *  -  *  -  *  \n",
      "1| |  9  |  2  |  4  |  \n",
      "2| *  -  *  -  *  -  *  \n",
      "3| |  8  |  3  |  1  |  \n",
      "4| *  -  *  -  *     *  \n",
      "5| |  2  |  1     7  |  \n",
      "6| *  -  *  -  *  -  *  \n",
      "   _________________________\n",
      "\n"
     ]
    },
    {
     "name": "stderr",
     "output_type": "stream",
     "text": [
      "192.168.1.7 - - [18/Mar/2024 20:00:41] \"POST /move HTTP/1.1\" 200 -\n"
     ]
    },
    {
     "name": "stdout",
     "output_type": "stream",
     "text": [
      "   0  1  2  3  4  5  6  \n",
      "   ________________________\n",
      "0| *  -  *  -  *  -  *  \n",
      "1| |  9  |  2  |  4  |  \n",
      "2| *  -  *  -  *  -  *  \n",
      "3| |  8  |  3  |  1  |  \n",
      "4| *  -  *  -  *  -  *  \n",
      "5| |  2  |  1     7  |  \n",
      "6| *  -  *  -  *  -  *  \n",
      "   _________________________\n",
      "\n"
     ]
    },
    {
     "name": "stderr",
     "output_type": "stream",
     "text": [
      "192.168.1.7 - - [18/Mar/2024 20:00:42] \"POST /move HTTP/1.1\" 200 -\n"
     ]
    },
    {
     "name": "stdout",
     "output_type": "stream",
     "text": [
      "   0  1  2  3  4  5  6  \n",
      "   ________________________\n",
      "0| *  -  *  -  *  -  *  \n",
      "1| |  9  |  2  |  4  |  \n",
      "2| *  -  *  -  *  -  *  \n",
      "3| |  8  |  3  |  1  |  \n",
      "4| *  -  *  -  *  -  *  \n",
      "5| |  2  |  1  |  7  |  \n",
      "6| *  -  *  -  *  -  *  \n",
      "   _________________________\n",
      "\n"
     ]
    },
    {
     "name": "stderr",
     "output_type": "stream",
     "text": [
      "192.168.1.7 - - [18/Mar/2024 20:00:56] \"POST /start HTTP/1.1\" 200 -\n"
     ]
    },
    {
     "name": "stdout",
     "output_type": "stream",
     "text": [
      "   0  1  2  3  4  5  6  \n",
      "   ________________________\n",
      "0| *     *     *     *  \n",
      "1|    3     1     3     \n",
      "2| *     *     *     *  \n",
      "3|    6     9     5     \n",
      "4| *     *     *     *  \n",
      "5|    1     3     9     \n",
      "6| *     *     *     *  \n",
      "   _________________________\n",
      "\n"
     ]
    },
    {
     "name": "stderr",
     "output_type": "stream",
     "text": [
      "192.168.1.7 - - [18/Mar/2024 20:01:27] \"POST /start HTTP/1.1\" 200 -\n"
     ]
    },
    {
     "name": "stdout",
     "output_type": "stream",
     "text": [
      "   0  1  2  3  4  5  6  \n",
      "   ________________________\n",
      "0| *     *     *     *  \n",
      "1|    2     2     2     \n",
      "2| *     *     *     *  \n",
      "3|    5     7     8     \n",
      "4| *     *     *     *  \n",
      "5|    2     6     1     \n",
      "6| *     *     *     *  \n",
      "   _________________________\n",
      "\n"
     ]
    },
    {
     "name": "stderr",
     "output_type": "stream",
     "text": [
      "192.168.1.7 - - [18/Mar/2024 20:01:28] \"POST /move HTTP/1.1\" 200 -\n"
     ]
    },
    {
     "name": "stdout",
     "output_type": "stream",
     "text": [
      "   0  1  2  3  4  5  6  \n",
      "   ________________________\n",
      "0| *  -  *     *     *  \n",
      "1|    2     2     2     \n",
      "2| *     *  -  *     *  \n",
      "3|    5     7     8     \n",
      "4| *     *     *     *  \n",
      "5|    2     6     1     \n",
      "6| *     *     *     *  \n",
      "   _________________________\n",
      "\n"
     ]
    },
    {
     "name": "stderr",
     "output_type": "stream",
     "text": [
      "192.168.1.7 - - [18/Mar/2024 20:01:30] \"POST /move HTTP/1.1\" 200 -\n"
     ]
    },
    {
     "name": "stdout",
     "output_type": "stream",
     "text": [
      "   0  1  2  3  4  5  6  \n",
      "   ________________________\n",
      "0| *  -  *  -  *     *  \n",
      "1|    2     2     2     \n",
      "2| *     *  -  *     *  \n",
      "3|    5     7     8     \n",
      "4| *     *  -  *     *  \n",
      "5|    2     6     1     \n",
      "6| *     *     *     *  \n",
      "   _________________________\n",
      "\n"
     ]
    },
    {
     "name": "stderr",
     "output_type": "stream",
     "text": [
      "192.168.1.7 - - [18/Mar/2024 20:01:32] \"POST /move HTTP/1.1\" 200 -\n"
     ]
    },
    {
     "name": "stdout",
     "output_type": "stream",
     "text": [
      "   0  1  2  3  4  5  6  \n",
      "   ________________________\n",
      "0| *  -  *  -  *  -  *  \n",
      "1|    2     2     2     \n",
      "2| *     *  -  *     *  \n",
      "3|    5     7     8     \n",
      "4| *     *  -  *     *  \n",
      "5|    2     6     1     \n",
      "6| *     *  -  *     *  \n",
      "   _________________________\n",
      "\n"
     ]
    },
    {
     "name": "stderr",
     "output_type": "stream",
     "text": [
      "192.168.1.7 - - [18/Mar/2024 20:01:35] \"POST /move HTTP/1.1\" 200 -\n"
     ]
    },
    {
     "name": "stdout",
     "output_type": "stream",
     "text": [
      "   0  1  2  3  4  5  6  \n",
      "   ________________________\n",
      "0| *  -  *  -  *  -  *  \n",
      "1| |  2     2     2     \n",
      "2| *     *  -  *     *  \n",
      "3|    5     7     8     \n",
      "4| *     *  -  *     *  \n",
      "5|    2     6     1     \n",
      "6| *     *  -  *  -  *  \n",
      "   _________________________\n",
      "\n"
     ]
    },
    {
     "name": "stderr",
     "output_type": "stream",
     "text": [
      "192.168.1.7 - - [18/Mar/2024 20:01:36] \"POST /move HTTP/1.1\" 200 -\n"
     ]
    },
    {
     "name": "stdout",
     "output_type": "stream",
     "text": [
      "   0  1  2  3  4  5  6  \n",
      "   ________________________\n",
      "0| *  -  *  -  *  -  *  \n",
      "1| |  2     2     2  |  \n",
      "2| *     *  -  *     *  \n",
      "3|    5     7     8     \n",
      "4| *     *  -  *     *  \n",
      "5|    2     6     1  |  \n",
      "6| *     *  -  *  -  *  \n",
      "   _________________________\n",
      "\n"
     ]
    },
    {
     "name": "stderr",
     "output_type": "stream",
     "text": [
      "192.168.1.7 - - [18/Mar/2024 20:01:37] \"POST /move HTTP/1.1\" 200 -\n"
     ]
    },
    {
     "name": "stdout",
     "output_type": "stream",
     "text": [
      "   0  1  2  3  4  5  6  \n",
      "   ________________________\n",
      "0| *  -  *  -  *  -  *  \n",
      "1| |  2     2     2  |  \n",
      "2| *     *  -  *     *  \n",
      "3| |  5     7     8  |  \n",
      "4| *     *  -  *     *  \n",
      "5|    2     6     1  |  \n",
      "6| *     *  -  *  -  *  \n",
      "   _________________________\n",
      "\n"
     ]
    },
    {
     "name": "stderr",
     "output_type": "stream",
     "text": [
      "192.168.1.7 - - [18/Mar/2024 20:01:39] \"POST /move HTTP/1.1\" 200 -\n"
     ]
    },
    {
     "name": "stdout",
     "output_type": "stream",
     "text": [
      "   0  1  2  3  4  5  6  \n",
      "   ________________________\n",
      "0| *  -  *  -  *  -  *  \n",
      "1| |  2     2  |  2  |  \n",
      "2| *     *  -  *  -  *  \n",
      "3| |  5     7     8  |  \n",
      "4| *     *  -  *     *  \n",
      "5|    2     6     1  |  \n",
      "6| *     *  -  *  -  *  \n",
      "   _________________________\n",
      "\n"
     ]
    },
    {
     "name": "stderr",
     "output_type": "stream",
     "text": [
      "192.168.1.7 - - [18/Mar/2024 20:01:40] \"POST /move HTTP/1.1\" 200 -\n"
     ]
    },
    {
     "name": "stdout",
     "output_type": "stream",
     "text": [
      "   0  1  2  3  4  5  6  \n",
      "   ________________________\n",
      "0| *  -  *  -  *  -  *  \n",
      "1| |  2  |  2  |  2  |  \n",
      "2| *     *  -  *  -  *  \n",
      "3| |  5     7     8  |  \n",
      "4| *     *  -  *     *  \n",
      "5|    2     6     1  |  \n",
      "6| *     *  -  *  -  *  \n",
      "   _________________________\n",
      "\n"
     ]
    },
    {
     "name": "stderr",
     "output_type": "stream",
     "text": [
      "192.168.1.7 - - [18/Mar/2024 20:01:41] \"POST /move HTTP/1.1\" 200 -\n"
     ]
    },
    {
     "name": "stdout",
     "output_type": "stream",
     "text": [
      "   0  1  2  3  4  5  6  \n",
      "   ________________________\n",
      "0| *  -  *  -  *  -  *  \n",
      "1| |  2  |  2  |  2  |  \n",
      "2| *  -  *  -  *  -  *  \n",
      "3| |  5     7     8  |  \n",
      "4| *     *  -  *     *  \n",
      "5|    2     6     1  |  \n",
      "6| *     *  -  *  -  *  \n",
      "   _________________________\n",
      "\n"
     ]
    },
    {
     "name": "stderr",
     "output_type": "stream",
     "text": [
      "192.168.1.7 - - [18/Mar/2024 20:01:42] \"POST /move HTTP/1.1\" 200 -\n"
     ]
    },
    {
     "name": "stdout",
     "output_type": "stream",
     "text": [
      "   0  1  2  3  4  5  6  \n",
      "   ________________________\n",
      "0| *  -  *  -  *  -  *  \n",
      "1| |  2  |  2  |  2  |  \n",
      "2| *  -  *  -  *  -  *  \n",
      "3| |  5     7     8  |  \n",
      "4| *     *  -  *     *  \n",
      "5| |  2     6     1  |  \n",
      "6| *     *  -  *  -  *  \n",
      "   _________________________\n",
      "\n"
     ]
    },
    {
     "name": "stderr",
     "output_type": "stream",
     "text": [
      "192.168.1.7 - - [18/Mar/2024 20:01:44] \"POST /move HTTP/1.1\" 200 -\n"
     ]
    },
    {
     "name": "stdout",
     "output_type": "stream",
     "text": [
      "   0  1  2  3  4  5  6  \n",
      "   ________________________\n",
      "0| *  -  *  -  *  -  *  \n",
      "1| |  2  |  2  |  2  |  \n",
      "2| *  -  *  -  *  -  *  \n",
      "3| |  5     7     8  |  \n",
      "4| *  -  *  -  *     *  \n",
      "5| |  2     6     1  |  \n",
      "6| *  -  *  -  *  -  *  \n",
      "   _________________________\n",
      "\n"
     ]
    },
    {
     "name": "stderr",
     "output_type": "stream",
     "text": [
      "192.168.1.7 - - [18/Mar/2024 20:01:47] \"POST /move HTTP/1.1\" 200 -\n"
     ]
    },
    {
     "name": "stdout",
     "output_type": "stream",
     "text": [
      "   0  1  2  3  4  5  6  \n",
      "   ________________________\n",
      "0| *  -  *  -  *  -  *  \n",
      "1| |  2  |  2  |  2  |  \n",
      "2| *  -  *  -  *  -  *  \n",
      "3| |  5     7  |  8  |  \n",
      "4| *  -  *  -  *  -  *  \n",
      "5| |  2     6     1  |  \n",
      "6| *  -  *  -  *  -  *  \n",
      "   _________________________\n",
      "\n"
     ]
    },
    {
     "name": "stderr",
     "output_type": "stream",
     "text": [
      "192.168.1.7 - - [18/Mar/2024 20:01:48] \"POST /move HTTP/1.1\" 200 -\n"
     ]
    },
    {
     "name": "stdout",
     "output_type": "stream",
     "text": [
      "   0  1  2  3  4  5  6  \n",
      "   ________________________\n",
      "0| *  -  *  -  *  -  *  \n",
      "1| |  2  |  2  |  2  |  \n",
      "2| *  -  *  -  *  -  *  \n",
      "3| |  5  |  7  |  8  |  \n",
      "4| *  -  *  -  *  -  *  \n",
      "5| |  2     6     1  |  \n",
      "6| *  -  *  -  *  -  *  \n",
      "   _________________________\n",
      "\n"
     ]
    },
    {
     "name": "stderr",
     "output_type": "stream",
     "text": [
      "192.168.1.7 - - [18/Mar/2024 20:01:49] \"POST /move HTTP/1.1\" 200 -\n"
     ]
    },
    {
     "name": "stdout",
     "output_type": "stream",
     "text": [
      "   0  1  2  3  4  5  6  \n",
      "   ________________________\n",
      "0| *  -  *  -  *  -  *  \n",
      "1| |  2  |  2  |  2  |  \n",
      "2| *  -  *  -  *  -  *  \n",
      "3| |  5  |  7  |  8  |  \n",
      "4| *  -  *  -  *  -  *  \n",
      "5| |  2  |  6     1  |  \n",
      "6| *  -  *  -  *  -  *  \n",
      "   _________________________\n",
      "\n"
     ]
    },
    {
     "name": "stderr",
     "output_type": "stream",
     "text": [
      "192.168.1.7 - - [18/Mar/2024 20:01:50] \"POST /move HTTP/1.1\" 200 -\n"
     ]
    },
    {
     "name": "stdout",
     "output_type": "stream",
     "text": [
      "   0  1  2  3  4  5  6  \n",
      "   ________________________\n",
      "0| *  -  *  -  *  -  *  \n",
      "1| |  2  |  2  |  2  |  \n",
      "2| *  -  *  -  *  -  *  \n",
      "3| |  5  |  7  |  8  |  \n",
      "4| *  -  *  -  *  -  *  \n",
      "5| |  2  |  6  |  1  |  \n",
      "6| *  -  *  -  *  -  *  \n",
      "   _________________________\n",
      "\n"
     ]
    },
    {
     "name": "stderr",
     "output_type": "stream",
     "text": [
      "192.168.1.7 - - [18/Mar/2024 20:03:14] \"POST /start HTTP/1.1\" 200 -\n"
     ]
    },
    {
     "name": "stdout",
     "output_type": "stream",
     "text": [
      "   0  1  2  3  4  5  6  \n",
      "   ________________________\n",
      "0| *     *     *     *  \n",
      "1|    5     7     9     \n",
      "2| *     *     *     *  \n",
      "3|    3     2     4     \n",
      "4| *     *     *     *  \n",
      "5|    3     5     6     \n",
      "6| *     *     *     *  \n",
      "   _________________________\n",
      "\n"
     ]
    },
    {
     "name": "stderr",
     "output_type": "stream",
     "text": [
      "192.168.1.7 - - [18/Mar/2024 20:03:17] \"POST /move HTTP/1.1\" 200 -\n"
     ]
    },
    {
     "name": "stdout",
     "output_type": "stream",
     "text": [
      "   0  1  2  3  4  5  6  \n",
      "   ________________________\n",
      "0| *  -  *  -  *     *  \n",
      "1|    5     7     9     \n",
      "2| *     *     *     *  \n",
      "3|    3     2     4     \n",
      "4| *     *     *     *  \n",
      "5|    3     5     6     \n",
      "6| *     *     *     *  \n",
      "   _________________________\n",
      "\n"
     ]
    },
    {
     "name": "stderr",
     "output_type": "stream",
     "text": [
      "192.168.1.7 - - [18/Mar/2024 20:03:18] \"POST /move HTTP/1.1\" 200 -\n"
     ]
    },
    {
     "name": "stdout",
     "output_type": "stream",
     "text": [
      "   0  1  2  3  4  5  6  \n",
      "   ________________________\n",
      "0| *  -  *  -  *  -  *  \n",
      "1|    5     7     9     \n",
      "2| *     *  -  *     *  \n",
      "3|    3     2     4     \n",
      "4| *     *     *     *  \n",
      "5|    3     5     6     \n",
      "6| *     *     *     *  \n",
      "   _________________________\n",
      "\n"
     ]
    },
    {
     "name": "stderr",
     "output_type": "stream",
     "text": [
      "192.168.1.7 - - [18/Mar/2024 20:03:19] \"POST /move HTTP/1.1\" 200 -\n"
     ]
    },
    {
     "name": "stdout",
     "output_type": "stream",
     "text": [
      "   0  1  2  3  4  5  6  \n",
      "   ________________________\n",
      "0| *  -  *  -  *  -  *  \n",
      "1| |  5     7     9     \n",
      "2| *     *  -  *     *  \n",
      "3|    3     2     4     \n",
      "4| *     *  -  *     *  \n",
      "5|    3     5     6     \n",
      "6| *     *     *     *  \n",
      "   _________________________\n",
      "\n"
     ]
    },
    {
     "name": "stderr",
     "output_type": "stream",
     "text": [
      "192.168.1.7 - - [18/Mar/2024 20:03:21] \"POST /move HTTP/1.1\" 200 -\n"
     ]
    },
    {
     "name": "stdout",
     "output_type": "stream",
     "text": [
      "   0  1  2  3  4  5  6  \n",
      "   ________________________\n",
      "0| *  -  *  -  *  -  *  \n",
      "1| |  5     7     9  |  \n",
      "2| *     *  -  *     *  \n",
      "3|    3     2     4     \n",
      "4| *     *  -  *     *  \n",
      "5|    3     5     6     \n",
      "6| *     *  -  *     *  \n",
      "   _________________________\n",
      "\n"
     ]
    },
    {
     "name": "stderr",
     "output_type": "stream",
     "text": [
      "192.168.1.7 - - [18/Mar/2024 20:03:23] \"POST /move HTTP/1.1\" 200 -\n"
     ]
    },
    {
     "name": "stdout",
     "output_type": "stream",
     "text": [
      "   0  1  2  3  4  5  6  \n",
      "   ________________________\n",
      "0| *  -  *  -  *  -  *  \n",
      "1| |  5     7     9  |  \n",
      "2| *     *  -  *     *  \n",
      "3| |  3     2     4     \n",
      "4| *     *  -  *     *  \n",
      "5|    3     5     6     \n",
      "6| *     *  -  *  -  *  \n",
      "   _________________________\n",
      "\n"
     ]
    },
    {
     "name": "stderr",
     "output_type": "stream",
     "text": [
      "192.168.1.7 - - [18/Mar/2024 20:03:24] \"POST /move HTTP/1.1\" 200 -\n"
     ]
    },
    {
     "name": "stdout",
     "output_type": "stream",
     "text": [
      "   0  1  2  3  4  5  6  \n",
      "   ________________________\n",
      "0| *  -  *  -  *  -  *  \n",
      "1| |  5     7     9  |  \n",
      "2| *     *  -  *     *  \n",
      "3| |  3     2     4  |  \n",
      "4| *     *  -  *     *  \n",
      "5|    3     5     6  |  \n",
      "6| *     *  -  *  -  *  \n",
      "   _________________________\n",
      "\n"
     ]
    },
    {
     "name": "stderr",
     "output_type": "stream",
     "text": [
      "192.168.1.7 - - [18/Mar/2024 20:03:27] \"POST /move HTTP/1.1\" 200 -\n"
     ]
    },
    {
     "name": "stdout",
     "output_type": "stream",
     "text": [
      "   0  1  2  3  4  5  6  \n",
      "   ________________________\n",
      "0| *  -  *  -  *  -  *  \n",
      "1| |  5     7  |  9  |  \n",
      "2| *     *  -  *  -  *  \n",
      "3| |  3     2     4  |  \n",
      "4| *     *  -  *     *  \n",
      "5|    3     5     6  |  \n",
      "6| *     *  -  *  -  *  \n",
      "   _________________________\n",
      "\n"
     ]
    },
    {
     "name": "stderr",
     "output_type": "stream",
     "text": [
      "192.168.1.7 - - [18/Mar/2024 20:03:28] \"POST /move HTTP/1.1\" 200 -\n"
     ]
    },
    {
     "name": "stdout",
     "output_type": "stream",
     "text": [
      "   0  1  2  3  4  5  6  \n",
      "   ________________________\n",
      "0| *  -  *  -  *  -  *  \n",
      "1| |  5  |  7  |  9  |  \n",
      "2| *     *  -  *  -  *  \n",
      "3| |  3     2     4  |  \n",
      "4| *     *  -  *     *  \n",
      "5|    3     5     6  |  \n",
      "6| *     *  -  *  -  *  \n",
      "   _________________________\n",
      "\n"
     ]
    },
    {
     "name": "stderr",
     "output_type": "stream",
     "text": [
      "192.168.1.7 - - [18/Mar/2024 20:03:29] \"POST /move HTTP/1.1\" 200 -\n"
     ]
    },
    {
     "name": "stdout",
     "output_type": "stream",
     "text": [
      "   0  1  2  3  4  5  6  \n",
      "   ________________________\n",
      "0| *  -  *  -  *  -  *  \n",
      "1| |  5  |  7  |  9  |  \n",
      "2| *  -  *  -  *  -  *  \n",
      "3| |  3     2     4  |  \n",
      "4| *     *  -  *     *  \n",
      "5|    3     5     6  |  \n",
      "6| *     *  -  *  -  *  \n",
      "   _________________________\n",
      "\n"
     ]
    },
    {
     "name": "stderr",
     "output_type": "stream",
     "text": [
      "192.168.1.7 - - [18/Mar/2024 20:03:30] \"POST /move HTTP/1.1\" 200 -\n"
     ]
    },
    {
     "name": "stdout",
     "output_type": "stream",
     "text": [
      "   0  1  2  3  4  5  6  \n",
      "   ________________________\n",
      "0| *  -  *  -  *  -  *  \n",
      "1| |  5  |  7  |  9  |  \n",
      "2| *  -  *  -  *  -  *  \n",
      "3| |  3     2     4  |  \n",
      "4| *     *  -  *     *  \n",
      "5| |  3     5     6  |  \n",
      "6| *     *  -  *  -  *  \n",
      "   _________________________\n",
      "\n"
     ]
    },
    {
     "name": "stderr",
     "output_type": "stream",
     "text": [
      "192.168.1.7 - - [18/Mar/2024 20:03:32] \"POST /move HTTP/1.1\" 200 -\n"
     ]
    },
    {
     "name": "stdout",
     "output_type": "stream",
     "text": [
      "   0  1  2  3  4  5  6  \n",
      "   ________________________\n",
      "0| *  -  *  -  *  -  *  \n",
      "1| |  5  |  7  |  9  |  \n",
      "2| *  -  *  -  *  -  *  \n",
      "3| |  3  |  2     4  |  \n",
      "4| *     *  -  *     *  \n",
      "5| |  3     5     6  |  \n",
      "6| *  -  *  -  *  -  *  \n",
      "   _________________________\n",
      "\n"
     ]
    },
    {
     "name": "stderr",
     "output_type": "stream",
     "text": [
      "192.168.1.7 - - [18/Mar/2024 20:03:37] \"POST /move HTTP/1.1\" 200 -\n"
     ]
    },
    {
     "name": "stdout",
     "output_type": "stream",
     "text": [
      "   0  1  2  3  4  5  6  \n",
      "   ________________________\n",
      "0| *  -  *  -  *  -  *  \n",
      "1| |  5  |  7  |  9  |  \n",
      "2| *  -  *  -  *  -  *  \n",
      "3| |  3  |  2     4  |  \n",
      "4| *  -  *  -  *     *  \n",
      "5| |  3  |  5     6  |  \n",
      "6| *  -  *  -  *  -  *  \n",
      "   _________________________\n",
      "\n"
     ]
    },
    {
     "name": "stderr",
     "output_type": "stream",
     "text": [
      "192.168.1.7 - - [18/Mar/2024 20:03:38] \"POST /move HTTP/1.1\" 200 -\n"
     ]
    },
    {
     "name": "stdout",
     "output_type": "stream",
     "text": [
      "   0  1  2  3  4  5  6  \n",
      "   ________________________\n",
      "0| *  -  *  -  *  -  *  \n",
      "1| |  5  |  7  |  9  |  \n",
      "2| *  -  *  -  *  -  *  \n",
      "3| |  3  |  2     4  |  \n",
      "4| *  -  *  -  *     *  \n",
      "5| |  3  |  5  |  6  |  \n",
      "6| *  -  *  -  *  -  *  \n",
      "   _________________________\n",
      "\n"
     ]
    },
    {
     "name": "stderr",
     "output_type": "stream",
     "text": [
      "192.168.1.7 - - [18/Mar/2024 20:03:39] \"POST /move HTTP/1.1\" 200 -\n"
     ]
    },
    {
     "name": "stdout",
     "output_type": "stream",
     "text": [
      "   0  1  2  3  4  5  6  \n",
      "   ________________________\n",
      "0| *  -  *  -  *  -  *  \n",
      "1| |  5  |  7  |  9  |  \n",
      "2| *  -  *  -  *  -  *  \n",
      "3| |  3  |  2     4  |  \n",
      "4| *  -  *  -  *  -  *  \n",
      "5| |  3  |  5  |  6  |  \n",
      "6| *  -  *  -  *  -  *  \n",
      "   _________________________\n",
      "\n"
     ]
    },
    {
     "name": "stderr",
     "output_type": "stream",
     "text": [
      "192.168.1.7 - - [18/Mar/2024 20:03:40] \"POST /move HTTP/1.1\" 200 -\n"
     ]
    },
    {
     "name": "stdout",
     "output_type": "stream",
     "text": [
      "   0  1  2  3  4  5  6  \n",
      "   ________________________\n",
      "0| *  -  *  -  *  -  *  \n",
      "1| |  5  |  7  |  9  |  \n",
      "2| *  -  *  -  *  -  *  \n",
      "3| |  3  |  2  |  4  |  \n",
      "4| *  -  *  -  *  -  *  \n",
      "5| |  3  |  5  |  6  |  \n",
      "6| *  -  *  -  *  -  *  \n",
      "   _________________________\n",
      "\n"
     ]
    },
    {
     "name": "stderr",
     "output_type": "stream",
     "text": [
      "192.168.1.7 - - [18/Mar/2024 20:03:52] \"POST /start HTTP/1.1\" 200 -\n"
     ]
    },
    {
     "name": "stdout",
     "output_type": "stream",
     "text": [
      "   0  1  2  3  4  5  6  \n",
      "   ________________________\n",
      "0| *     *     *     *  \n",
      "1|    6     8     3     \n",
      "2| *     *     *     *  \n",
      "3|    6     2     3     \n",
      "4| *     *     *     *  \n",
      "5|    1     1     1     \n",
      "6| *     *     *     *  \n",
      "   _________________________\n",
      "\n"
     ]
    },
    {
     "name": "stderr",
     "output_type": "stream",
     "text": [
      "192.168.1.7 - - [18/Mar/2024 20:03:53] \"POST /move HTTP/1.1\" 200 -\n"
     ]
    },
    {
     "name": "stdout",
     "output_type": "stream",
     "text": [
      "   0  1  2  3  4  5  6  \n",
      "   ________________________\n",
      "0| *  -  *  -  *     *  \n",
      "1|    6     8     3     \n",
      "2| *     *     *     *  \n",
      "3|    6     2     3     \n",
      "4| *     *     *     *  \n",
      "5|    1     1     1     \n",
      "6| *     *     *     *  \n",
      "   _________________________\n",
      "\n"
     ]
    },
    {
     "name": "stderr",
     "output_type": "stream",
     "text": [
      "192.168.1.7 - - [18/Mar/2024 20:03:54] \"POST /move HTTP/1.1\" 200 -\n"
     ]
    },
    {
     "name": "stdout",
     "output_type": "stream",
     "text": [
      "   0  1  2  3  4  5  6  \n",
      "   ________________________\n",
      "0| *  -  *  -  *  -  *  \n",
      "1| |  6     8     3     \n",
      "2| *     *     *     *  \n",
      "3|    6     2     3     \n",
      "4| *     *     *     *  \n",
      "5|    1     1     1     \n",
      "6| *     *     *     *  \n",
      "   _________________________\n",
      "\n"
     ]
    },
    {
     "name": "stderr",
     "output_type": "stream",
     "text": [
      "192.168.1.7 - - [18/Mar/2024 20:03:55] \"POST /move HTTP/1.1\" 200 -\n"
     ]
    },
    {
     "name": "stdout",
     "output_type": "stream",
     "text": [
      "   0  1  2  3  4  5  6  \n",
      "   ________________________\n",
      "0| *  -  *  -  *  -  *  \n",
      "1| |  6     8  |  3     \n",
      "2| *     *     *     *  \n",
      "3| |  6     2     3     \n",
      "4| *     *     *     *  \n",
      "5|    1     1     1     \n",
      "6| *     *     *     *  \n",
      "   _________________________\n",
      "\n"
     ]
    },
    {
     "name": "stderr",
     "output_type": "stream",
     "text": [
      "192.168.1.7 - - [18/Mar/2024 20:03:56] \"POST /move HTTP/1.1\" 200 -\n"
     ]
    },
    {
     "name": "stdout",
     "output_type": "stream",
     "text": [
      "   0  1  2  3  4  5  6  \n",
      "   ________________________\n",
      "0| *  -  *  -  *  -  *  \n",
      "1| |  6     8  |  3     \n",
      "2| *     *     *     *  \n",
      "3| |  6  |  2     3     \n",
      "4| *     *     *     *  \n",
      "5|    1     1     1     \n",
      "6| *     *     *     *  \n",
      "   _________________________\n",
      "\n"
     ]
    },
    {
     "name": "stderr",
     "output_type": "stream",
     "text": [
      "192.168.1.7 - - [18/Mar/2024 20:03:59] \"POST /move HTTP/1.1\" 200 -\n"
     ]
    },
    {
     "name": "stdout",
     "output_type": "stream",
     "text": [
      "   0  1  2  3  4  5  6  \n",
      "   ________________________\n",
      "0| *  -  *  -  *  -  *  \n",
      "1| |  6     8  |  3     \n",
      "2| *     *     *     *  \n",
      "3| |  6  |  2  |  3     \n",
      "4| *     *     *     *  \n",
      "5|    1     1     1     \n",
      "6| *     *     *     *  \n",
      "   _________________________\n",
      "\n"
     ]
    },
    {
     "name": "stderr",
     "output_type": "stream",
     "text": [
      "192.168.1.7 - - [18/Mar/2024 20:04:01] \"POST /move HTTP/1.1\" 200 -\n"
     ]
    },
    {
     "name": "stdout",
     "output_type": "stream",
     "text": [
      "   0  1  2  3  4  5  6  \n",
      "   ________________________\n",
      "0| *  -  *  -  *  -  *  \n",
      "1| |  6     8  |  3     \n",
      "2| *     *     *     *  \n",
      "3| |  6  |  2  |  3  |  \n",
      "4| *     *     *     *  \n",
      "5| |  1     1     1     \n",
      "6| *     *     *     *  \n",
      "   _________________________\n",
      "\n"
     ]
    },
    {
     "name": "stderr",
     "output_type": "stream",
     "text": [
      "192.168.1.7 - - [18/Mar/2024 20:04:02] \"POST /move HTTP/1.1\" 200 -\n"
     ]
    },
    {
     "name": "stdout",
     "output_type": "stream",
     "text": [
      "   0  1  2  3  4  5  6  \n",
      "   ________________________\n",
      "0| *  -  *  -  *  -  *  \n",
      "1| |  6     8  |  3     \n",
      "2| *     *     *     *  \n",
      "3| |  6  |  2  |  3  |  \n",
      "4| *     *     *     *  \n",
      "5| |  1     1  |  1     \n",
      "6| *  -  *     *     *  \n",
      "   _________________________\n",
      "\n"
     ]
    },
    {
     "name": "stderr",
     "output_type": "stream",
     "text": [
      "192.168.1.7 - - [18/Mar/2024 20:04:08] \"POST /move HTTP/1.1\" 200 -\n"
     ]
    },
    {
     "name": "stdout",
     "output_type": "stream",
     "text": [
      "   0  1  2  3  4  5  6  \n",
      "   ________________________\n",
      "0| *  -  *  -  *  -  *  \n",
      "1| |  6     8  |  3     \n",
      "2| *     *     *     *  \n",
      "3| |  6  |  2  |  3  |  \n",
      "4| *     *     *     *  \n",
      "5| |  1     1  |  1  |  \n",
      "6| *  -  *  -  *     *  \n",
      "   _________________________\n",
      "\n"
     ]
    },
    {
     "name": "stderr",
     "output_type": "stream",
     "text": [
      "192.168.1.7 - - [18/Mar/2024 20:04:10] \"POST /move HTTP/1.1\" 200 -\n"
     ]
    },
    {
     "name": "stdout",
     "output_type": "stream",
     "text": [
      "   0  1  2  3  4  5  6  \n",
      "   ________________________\n",
      "0| *  -  *  -  *  -  *  \n",
      "1| |  6     8  |  3     \n",
      "2| *     *     *     *  \n",
      "3| |  6  |  2  |  3  |  \n",
      "4| *     *     *     *  \n",
      "5| |  1  |  1  |  1  |  \n",
      "6| *  -  *  -  *  -  *  \n",
      "   _________________________\n",
      "\n"
     ]
    },
    {
     "name": "stderr",
     "output_type": "stream",
     "text": [
      "192.168.1.7 - - [18/Mar/2024 20:04:14] \"POST /move HTTP/1.1\" 200 -\n"
     ]
    },
    {
     "name": "stdout",
     "output_type": "stream",
     "text": [
      "   0  1  2  3  4  5  6  \n",
      "   ________________________\n",
      "0| *  -  *  -  *  -  *  \n",
      "1| |  6     8  |  3  |  \n",
      "2| *     *     *  -  *  \n",
      "3| |  6  |  2  |  3  |  \n",
      "4| *     *     *     *  \n",
      "5| |  1  |  1  |  1  |  \n",
      "6| *  -  *  -  *  -  *  \n",
      "   _________________________\n",
      "\n"
     ]
    },
    {
     "name": "stderr",
     "output_type": "stream",
     "text": [
      "192.168.1.7 - - [18/Mar/2024 20:04:15] \"POST /move HTTP/1.1\" 200 -\n"
     ]
    },
    {
     "name": "stdout",
     "output_type": "stream",
     "text": [
      "   0  1  2  3  4  5  6  \n",
      "   ________________________\n",
      "0| *  -  *  -  *  -  *  \n",
      "1| |  6     8  |  3  |  \n",
      "2| *     *     *  -  *  \n",
      "3| |  6  |  2  |  3  |  \n",
      "4| *     *     *  -  *  \n",
      "5| |  1  |  1  |  1  |  \n",
      "6| *  -  *  -  *  -  *  \n",
      "   _________________________\n",
      "\n"
     ]
    },
    {
     "name": "stderr",
     "output_type": "stream",
     "text": [
      "192.168.1.7 - - [18/Mar/2024 20:04:16] \"POST /move HTTP/1.1\" 200 -\n"
     ]
    },
    {
     "name": "stdout",
     "output_type": "stream",
     "text": [
      "   0  1  2  3  4  5  6  \n",
      "   ________________________\n",
      "0| *  -  *  -  *  -  *  \n",
      "1| |  6     8  |  3  |  \n",
      "2| *     *     *  -  *  \n",
      "3| |  6  |  2  |  3  |  \n",
      "4| *     *  -  *  -  *  \n",
      "5| |  1  |  1  |  1  |  \n",
      "6| *  -  *  -  *  -  *  \n",
      "   _________________________\n",
      "\n"
     ]
    },
    {
     "name": "stderr",
     "output_type": "stream",
     "text": [
      "192.168.1.7 - - [18/Mar/2024 20:04:17] \"POST /move HTTP/1.1\" 200 -\n"
     ]
    },
    {
     "name": "stdout",
     "output_type": "stream",
     "text": [
      "   0  1  2  3  4  5  6  \n",
      "   ________________________\n",
      "0| *  -  *  -  *  -  *  \n",
      "1| |  6     8  |  3  |  \n",
      "2| *     *     *  -  *  \n",
      "3| |  6  |  2  |  3  |  \n",
      "4| *  -  *  -  *  -  *  \n",
      "5| |  1  |  1  |  1  |  \n",
      "6| *  -  *  -  *  -  *  \n",
      "   _________________________\n",
      "\n"
     ]
    },
    {
     "name": "stderr",
     "output_type": "stream",
     "text": [
      "192.168.1.7 - - [18/Mar/2024 20:04:18] \"POST /move HTTP/1.1\" 200 -\n"
     ]
    },
    {
     "name": "stdout",
     "output_type": "stream",
     "text": [
      "   0  1  2  3  4  5  6  \n",
      "   ________________________\n",
      "0| *  -  *  -  *  -  *  \n",
      "1| |  6     8  |  3  |  \n",
      "2| *  -  *     *  -  *  \n",
      "3| |  6  |  2  |  3  |  \n",
      "4| *  -  *  -  *  -  *  \n",
      "5| |  1  |  1  |  1  |  \n",
      "6| *  -  *  -  *  -  *  \n",
      "   _________________________\n",
      "\n"
     ]
    },
    {
     "name": "stderr",
     "output_type": "stream",
     "text": [
      "192.168.1.7 - - [18/Mar/2024 20:04:19] \"POST /move HTTP/1.1\" 200 -\n"
     ]
    },
    {
     "name": "stdout",
     "output_type": "stream",
     "text": [
      "   0  1  2  3  4  5  6  \n",
      "   ________________________\n",
      "0| *  -  *  -  *  -  *  \n",
      "1| |  6  |  8  |  3  |  \n",
      "2| *  -  *     *  -  *  \n",
      "3| |  6  |  2  |  3  |  \n",
      "4| *  -  *  -  *  -  *  \n",
      "5| |  1  |  1  |  1  |  \n",
      "6| *  -  *  -  *  -  *  \n",
      "   _________________________\n",
      "\n"
     ]
    },
    {
     "name": "stderr",
     "output_type": "stream",
     "text": [
      "192.168.1.7 - - [18/Mar/2024 20:04:20] \"POST /move HTTP/1.1\" 200 -\n"
     ]
    },
    {
     "name": "stdout",
     "output_type": "stream",
     "text": [
      "   0  1  2  3  4  5  6  \n",
      "   ________________________\n",
      "0| *  -  *  -  *  -  *  \n",
      "1| |  6  |  8  |  3  |  \n",
      "2| *  -  *  -  *  -  *  \n",
      "3| |  6  |  2  |  3  |  \n",
      "4| *  -  *  -  *  -  *  \n",
      "5| |  1  |  1  |  1  |  \n",
      "6| *  -  *  -  *  -  *  \n",
      "   _________________________\n",
      "\n"
     ]
    },
    {
     "name": "stderr",
     "output_type": "stream",
     "text": [
      "192.168.1.7 - - [18/Mar/2024 20:04:34] \"POST /start HTTP/1.1\" 200 -\n"
     ]
    },
    {
     "name": "stdout",
     "output_type": "stream",
     "text": [
      "   0  1  2  3  4  5  6  \n",
      "   ________________________\n",
      "0| *     *     *     *  \n",
      "1|    4     9     6     \n",
      "2| *     *     *     *  \n",
      "3|    5     9     5     \n",
      "4| *     *     *     *  \n",
      "5|    4     6     9     \n",
      "6| *     *     *     *  \n",
      "   _________________________\n",
      "\n"
     ]
    },
    {
     "name": "stderr",
     "output_type": "stream",
     "text": [
      "192.168.1.7 - - [18/Mar/2024 20:04:41] \"POST /move HTTP/1.1\" 200 -\n"
     ]
    },
    {
     "name": "stdout",
     "output_type": "stream",
     "text": [
      "   0  1  2  3  4  5  6  \n",
      "   ________________________\n",
      "0| *  -  *  -  *     *  \n",
      "1|    4     9     6     \n",
      "2| *     *     *     *  \n",
      "3|    5     9     5     \n",
      "4| *     *     *     *  \n",
      "5|    4     6     9     \n",
      "6| *     *     *     *  \n",
      "   _________________________\n",
      "\n"
     ]
    },
    {
     "name": "stderr",
     "output_type": "stream",
     "text": [
      "192.168.1.7 - - [18/Mar/2024 20:04:43] \"POST /move HTTP/1.1\" 200 -\n"
     ]
    },
    {
     "name": "stdout",
     "output_type": "stream",
     "text": [
      "   0  1  2  3  4  5  6  \n",
      "   ________________________\n",
      "0| *  -  *  -  *  -  *  \n",
      "1| |  4     9     6     \n",
      "2| *     *     *     *  \n",
      "3|    5     9     5     \n",
      "4| *     *     *     *  \n",
      "5|    4     6     9     \n",
      "6| *     *     *     *  \n",
      "   _________________________\n",
      "\n"
     ]
    },
    {
     "name": "stderr",
     "output_type": "stream",
     "text": [
      "192.168.1.7 - - [18/Mar/2024 20:04:44] \"POST /move HTTP/1.1\" 200 -\n"
     ]
    },
    {
     "name": "stdout",
     "output_type": "stream",
     "text": [
      "   0  1  2  3  4  5  6  \n",
      "   ________________________\n",
      "0| *  -  *  -  *  -  *  \n",
      "1| |  4     9     6     \n",
      "2| *     *  -  *  -  *  \n",
      "3|    5     9     5     \n",
      "4| *     *     *     *  \n",
      "5|    4     6     9     \n",
      "6| *     *     *     *  \n",
      "   _________________________\n",
      "\n"
     ]
    },
    {
     "name": "stderr",
     "output_type": "stream",
     "text": [
      "192.168.1.7 - - [18/Mar/2024 20:04:46] \"POST /move HTTP/1.1\" 200 -\n"
     ]
    },
    {
     "name": "stdout",
     "output_type": "stream",
     "text": [
      "   0  1  2  3  4  5  6  \n",
      "   ________________________\n",
      "0| *  -  *  -  *  -  *  \n",
      "1| |  4     9  |  6  |  \n",
      "2| *     *  -  *  -  *  \n",
      "3|    5     9     5     \n",
      "4| *     *     *     *  \n",
      "5|    4     6     9     \n",
      "6| *     *     *     *  \n",
      "   _________________________\n",
      "\n"
     ]
    },
    {
     "name": "stderr",
     "output_type": "stream",
     "text": [
      "192.168.1.7 - - [18/Mar/2024 20:04:47] \"POST /move HTTP/1.1\" 200 -\n"
     ]
    },
    {
     "name": "stdout",
     "output_type": "stream",
     "text": [
      "   0  1  2  3  4  5  6  \n",
      "   ________________________\n",
      "0| *  -  *  -  *  -  *  \n",
      "1| |  4  |  9  |  6  |  \n",
      "2| *     *  -  *  -  *  \n",
      "3|    5     9     5     \n",
      "4| *     *     *     *  \n",
      "5|    4     6     9     \n",
      "6| *     *     *     *  \n",
      "   _________________________\n",
      "\n"
     ]
    },
    {
     "name": "stderr",
     "output_type": "stream",
     "text": [
      "192.168.1.7 - - [18/Mar/2024 20:04:48] \"POST /move HTTP/1.1\" 200 -\n"
     ]
    },
    {
     "name": "stdout",
     "output_type": "stream",
     "text": [
      "   0  1  2  3  4  5  6  \n",
      "   ________________________\n",
      "0| *  -  *  -  *  -  *  \n",
      "1| |  4  |  9  |  6  |  \n",
      "2| *  -  *  -  *  -  *  \n",
      "3|    5     9     5     \n",
      "4| *     *     *     *  \n",
      "5|    4     6     9     \n",
      "6| *     *     *     *  \n",
      "   _________________________\n",
      "\n"
     ]
    },
    {
     "name": "stderr",
     "output_type": "stream",
     "text": [
      "192.168.1.7 - - [18/Mar/2024 20:04:49] \"POST /move HTTP/1.1\" 200 -\n"
     ]
    },
    {
     "name": "stdout",
     "output_type": "stream",
     "text": [
      "   0  1  2  3  4  5  6  \n",
      "   ________________________\n",
      "0| *  -  *  -  *  -  *  \n",
      "1| |  4  |  9  |  6  |  \n",
      "2| *  -  *  -  *  -  *  \n",
      "3| |  5     9     5     \n",
      "4| *     *     *     *  \n",
      "5|    4     6     9     \n",
      "6| *     *     *     *  \n",
      "   _________________________\n",
      "\n"
     ]
    },
    {
     "name": "stderr",
     "output_type": "stream",
     "text": [
      "192.168.1.7 - - [18/Mar/2024 20:04:51] \"POST /move HTTP/1.1\" 200 -\n"
     ]
    },
    {
     "name": "stdout",
     "output_type": "stream",
     "text": [
      "   0  1  2  3  4  5  6  \n",
      "   ________________________\n",
      "0| *  -  *  -  *  -  *  \n",
      "1| |  4  |  9  |  6  |  \n",
      "2| *  -  *  -  *  -  *  \n",
      "3| |  5     9  |  5     \n",
      "4| *     *     *     *  \n",
      "5|    4     6     9     \n",
      "6| *     *  -  *     *  \n",
      "   _________________________\n",
      "\n"
     ]
    },
    {
     "name": "stderr",
     "output_type": "stream",
     "text": [
      "192.168.1.7 - - [18/Mar/2024 20:04:53] \"POST /move HTTP/1.1\" 200 -\n"
     ]
    },
    {
     "name": "stdout",
     "output_type": "stream",
     "text": [
      "   0  1  2  3  4  5  6  \n",
      "   ________________________\n",
      "0| *  -  *  -  *  -  *  \n",
      "1| |  4  |  9  |  6  |  \n",
      "2| *  -  *  -  *  -  *  \n",
      "3| |  5     9  |  5     \n",
      "4| *     *     *     *  \n",
      "5| |  4     6     9     \n",
      "6| *  -  *  -  *     *  \n",
      "   _________________________\n",
      "\n"
     ]
    },
    {
     "name": "stderr",
     "output_type": "stream",
     "text": [
      "192.168.1.7 - - [18/Mar/2024 20:04:54] \"POST /move HTTP/1.1\" 200 -\n"
     ]
    },
    {
     "name": "stdout",
     "output_type": "stream",
     "text": [
      "   0  1  2  3  4  5  6  \n",
      "   ________________________\n",
      "0| *  -  *  -  *  -  *  \n",
      "1| |  4  |  9  |  6  |  \n",
      "2| *  -  *  -  *  -  *  \n",
      "3| |  5     9  |  5     \n",
      "4| *     *     *     *  \n",
      "5| |  4     6  |  9     \n",
      "6| *  -  *  -  *  -  *  \n",
      "   _________________________\n",
      "\n"
     ]
    },
    {
     "name": "stderr",
     "output_type": "stream",
     "text": [
      "192.168.1.7 - - [18/Mar/2024 20:04:56] \"POST /move HTTP/1.1\" 200 -\n"
     ]
    },
    {
     "name": "stdout",
     "output_type": "stream",
     "text": [
      "   0  1  2  3  4  5  6  \n",
      "   ________________________\n",
      "0| *  -  *  -  *  -  *  \n",
      "1| |  4  |  9  |  6  |  \n",
      "2| *  -  *  -  *  -  *  \n",
      "3| |  5     9  |  5     \n",
      "4| *     *     *  -  *  \n",
      "5| |  4     6  |  9  |  \n",
      "6| *  -  *  -  *  -  *  \n",
      "   _________________________\n",
      "\n"
     ]
    },
    {
     "name": "stderr",
     "output_type": "stream",
     "text": [
      "192.168.1.7 - - [18/Mar/2024 20:04:57] \"POST /move HTTP/1.1\" 200 -\n"
     ]
    },
    {
     "name": "stdout",
     "output_type": "stream",
     "text": [
      "   0  1  2  3  4  5  6  \n",
      "   ________________________\n",
      "0| *  -  *  -  *  -  *  \n",
      "1| |  4  |  9  |  6  |  \n",
      "2| *  -  *  -  *  -  *  \n",
      "3| |  5     9  |  5  |  \n",
      "4| *     *     *  -  *  \n",
      "5| |  4     6  |  9  |  \n",
      "6| *  -  *  -  *  -  *  \n",
      "   _________________________\n",
      "\n"
     ]
    },
    {
     "name": "stderr",
     "output_type": "stream",
     "text": [
      "192.168.1.7 - - [18/Mar/2024 20:04:58] \"POST /move HTTP/1.1\" 200 -\n"
     ]
    },
    {
     "name": "stdout",
     "output_type": "stream",
     "text": [
      "   0  1  2  3  4  5  6  \n",
      "   ________________________\n",
      "0| *  -  *  -  *  -  *  \n",
      "1| |  4  |  9  |  6  |  \n",
      "2| *  -  *  -  *  -  *  \n",
      "3| |  5     9  |  5  |  \n",
      "4| *  -  *     *  -  *  \n",
      "5| |  4     6  |  9  |  \n",
      "6| *  -  *  -  *  -  *  \n",
      "   _________________________\n",
      "\n"
     ]
    },
    {
     "name": "stderr",
     "output_type": "stream",
     "text": [
      "192.168.1.7 - - [18/Mar/2024 20:05:01] \"POST /move HTTP/1.1\" 200 -\n"
     ]
    },
    {
     "name": "stdout",
     "output_type": "stream",
     "text": [
      "   0  1  2  3  4  5  6  \n",
      "   ________________________\n",
      "0| *  -  *  -  *  -  *  \n",
      "1| |  4  |  9  |  6  |  \n",
      "2| *  -  *  -  *  -  *  \n",
      "3| |  5  |  9  |  5  |  \n",
      "4| *  -  *  -  *  -  *  \n",
      "5| |  4     6  |  9  |  \n",
      "6| *  -  *  -  *  -  *  \n",
      "   _________________________\n",
      "\n"
     ]
    },
    {
     "name": "stderr",
     "output_type": "stream",
     "text": [
      "192.168.1.7 - - [18/Mar/2024 20:05:02] \"POST /move HTTP/1.1\" 200 -\n"
     ]
    },
    {
     "name": "stdout",
     "output_type": "stream",
     "text": [
      "   0  1  2  3  4  5  6  \n",
      "   ________________________\n",
      "0| *  -  *  -  *  -  *  \n",
      "1| |  4  |  9  |  6  |  \n",
      "2| *  -  *  -  *  -  *  \n",
      "3| |  5  |  9  |  5  |  \n",
      "4| *  -  *  -  *  -  *  \n",
      "5| |  4  |  6  |  9  |  \n",
      "6| *  -  *  -  *  -  *  \n",
      "   _________________________\n",
      "\n"
     ]
    },
    {
     "name": "stderr",
     "output_type": "stream",
     "text": [
      "192.168.1.7 - - [18/Mar/2024 20:06:55] \"POST /start HTTP/1.1\" 200 -\n"
     ]
    },
    {
     "name": "stdout",
     "output_type": "stream",
     "text": [
      "   0  1  2  3  4  5  6  \n",
      "   ________________________\n",
      "0| *     *     *     *  \n",
      "1|    9     6     7     \n",
      "2| *     *     *     *  \n",
      "3|    5     8     7     \n",
      "4| *     *     *     *  \n",
      "5|    7     4     3     \n",
      "6| *     *     *     *  \n",
      "   _________________________\n",
      "\n"
     ]
    },
    {
     "name": "stderr",
     "output_type": "stream",
     "text": [
      "192.168.1.7 - - [18/Mar/2024 20:07:04] \"POST /move HTTP/1.1\" 200 -\n"
     ]
    },
    {
     "name": "stdout",
     "output_type": "stream",
     "text": [
      "   0  1  2  3  4  5  6  \n",
      "   ________________________\n",
      "0| *  -  *  -  *     *  \n",
      "1|    9     6     7     \n",
      "2| *     *     *     *  \n",
      "3|    5     8     7     \n",
      "4| *     *     *     *  \n",
      "5|    7     4     3     \n",
      "6| *     *     *     *  \n",
      "   _________________________\n",
      "\n"
     ]
    },
    {
     "name": "stderr",
     "output_type": "stream",
     "text": [
      "192.168.1.7 - - [18/Mar/2024 20:07:07] \"POST /move HTTP/1.1\" 200 -\n"
     ]
    },
    {
     "name": "stdout",
     "output_type": "stream",
     "text": [
      "   0  1  2  3  4  5  6  \n",
      "   ________________________\n",
      "0| *  -  *  -  *  -  *  \n",
      "1|    9     6     7     \n",
      "2| *     *  -  *     *  \n",
      "3|    5     8     7     \n",
      "4| *     *     *     *  \n",
      "5|    7     4     3     \n",
      "6| *     *     *     *  \n",
      "   _________________________\n",
      "\n"
     ]
    },
    {
     "name": "stderr",
     "output_type": "stream",
     "text": [
      "192.168.1.7 - - [18/Mar/2024 20:07:08] \"POST /move HTTP/1.1\" 200 -\n"
     ]
    },
    {
     "name": "stdout",
     "output_type": "stream",
     "text": [
      "   0  1  2  3  4  5  6  \n",
      "   ________________________\n",
      "0| *  -  *  -  *  -  *  \n",
      "1| |  9     6     7     \n",
      "2| *     *  -  *     *  \n",
      "3|    5     8     7     \n",
      "4| *     *  -  *     *  \n",
      "5|    7     4     3     \n",
      "6| *     *     *     *  \n",
      "   _________________________\n",
      "\n"
     ]
    },
    {
     "name": "stderr",
     "output_type": "stream",
     "text": [
      "192.168.1.7 - - [18/Mar/2024 20:07:10] \"POST /move HTTP/1.1\" 200 -\n"
     ]
    },
    {
     "name": "stdout",
     "output_type": "stream",
     "text": [
      "   0  1  2  3  4  5  6  \n",
      "   ________________________\n",
      "0| *  -  *  -  *  -  *  \n",
      "1| |  9     6     7  |  \n",
      "2| *     *  -  *     *  \n",
      "3|    5     8     7     \n",
      "4| *     *  -  *     *  \n",
      "5|    7     4     3     \n",
      "6| *     *  -  *     *  \n",
      "   _________________________\n",
      "\n"
     ]
    },
    {
     "name": "stderr",
     "output_type": "stream",
     "text": [
      "192.168.1.7 - - [18/Mar/2024 20:07:11] \"POST /move HTTP/1.1\" 200 -\n"
     ]
    },
    {
     "name": "stdout",
     "output_type": "stream",
     "text": [
      "   0  1  2  3  4  5  6  \n",
      "   ________________________\n",
      "0| *  -  *  -  *  -  *  \n",
      "1| |  9     6     7  |  \n",
      "2| *     *  -  *     *  \n",
      "3| |  5     8     7     \n",
      "4| *     *  -  *     *  \n",
      "5|    7     4     3     \n",
      "6| *     *  -  *  -  *  \n",
      "   _________________________\n",
      "\n"
     ]
    },
    {
     "name": "stderr",
     "output_type": "stream",
     "text": [
      "192.168.1.7 - - [18/Mar/2024 20:07:13] \"POST /move HTTP/1.1\" 200 -\n"
     ]
    },
    {
     "name": "stdout",
     "output_type": "stream",
     "text": [
      "   0  1  2  3  4  5  6  \n",
      "   ________________________\n",
      "0| *  -  *  -  *  -  *  \n",
      "1| |  9     6     7  |  \n",
      "2| *     *  -  *     *  \n",
      "3| |  5     8     7  |  \n",
      "4| *     *  -  *     *  \n",
      "5|    7     4     3  |  \n",
      "6| *     *  -  *  -  *  \n",
      "   _________________________\n",
      "\n"
     ]
    },
    {
     "name": "stderr",
     "output_type": "stream",
     "text": [
      "192.168.1.7 - - [18/Mar/2024 20:07:15] \"POST /move HTTP/1.1\" 200 -\n"
     ]
    },
    {
     "name": "stdout",
     "output_type": "stream",
     "text": [
      "   0  1  2  3  4  5  6  \n",
      "   ________________________\n",
      "0| *  -  *  -  *  -  *  \n",
      "1| |  9     6  |  7  |  \n",
      "2| *     *  -  *  -  *  \n",
      "3| |  5     8     7  |  \n",
      "4| *     *  -  *     *  \n",
      "5|    7     4     3  |  \n",
      "6| *     *  -  *  -  *  \n",
      "   _________________________\n",
      "\n"
     ]
    },
    {
     "name": "stderr",
     "output_type": "stream",
     "text": [
      "192.168.1.7 - - [18/Mar/2024 20:07:16] \"POST /move HTTP/1.1\" 200 -\n"
     ]
    },
    {
     "name": "stdout",
     "output_type": "stream",
     "text": [
      "   0  1  2  3  4  5  6  \n",
      "   ________________________\n",
      "0| *  -  *  -  *  -  *  \n",
      "1| |  9  |  6  |  7  |  \n",
      "2| *     *  -  *  -  *  \n",
      "3| |  5     8     7  |  \n",
      "4| *     *  -  *     *  \n",
      "5|    7     4     3  |  \n",
      "6| *     *  -  *  -  *  \n",
      "   _________________________\n",
      "\n"
     ]
    },
    {
     "name": "stderr",
     "output_type": "stream",
     "text": [
      "192.168.1.7 - - [18/Mar/2024 20:07:17] \"POST /move HTTP/1.1\" 200 -\n"
     ]
    },
    {
     "name": "stdout",
     "output_type": "stream",
     "text": [
      "   0  1  2  3  4  5  6  \n",
      "   ________________________\n",
      "0| *  -  *  -  *  -  *  \n",
      "1| |  9  |  6  |  7  |  \n",
      "2| *  -  *  -  *  -  *  \n",
      "3| |  5     8     7  |  \n",
      "4| *     *  -  *     *  \n",
      "5|    7     4     3  |  \n",
      "6| *     *  -  *  -  *  \n",
      "   _________________________\n",
      "\n"
     ]
    },
    {
     "name": "stderr",
     "output_type": "stream",
     "text": [
      "192.168.1.7 - - [18/Mar/2024 20:07:18] \"POST /move HTTP/1.1\" 200 -\n"
     ]
    },
    {
     "name": "stdout",
     "output_type": "stream",
     "text": [
      "   0  1  2  3  4  5  6  \n",
      "   ________________________\n",
      "0| *  -  *  -  *  -  *  \n",
      "1| |  9  |  6  |  7  |  \n",
      "2| *  -  *  -  *  -  *  \n",
      "3| |  5     8     7  |  \n",
      "4| *     *  -  *     *  \n",
      "5| |  7     4     3  |  \n",
      "6| *     *  -  *  -  *  \n",
      "   _________________________\n",
      "\n"
     ]
    },
    {
     "name": "stderr",
     "output_type": "stream",
     "text": [
      "192.168.1.7 - - [18/Mar/2024 20:07:20] \"POST /move HTTP/1.1\" 200 -\n"
     ]
    },
    {
     "name": "stdout",
     "output_type": "stream",
     "text": [
      "   0  1  2  3  4  5  6  \n",
      "   ________________________\n",
      "0| *  -  *  -  *  -  *  \n",
      "1| |  9  |  6  |  7  |  \n",
      "2| *  -  *  -  *  -  *  \n",
      "3| |  5     8     7  |  \n",
      "4| *     *  -  *     *  \n",
      "5| |  7     4  |  3  |  \n",
      "6| *  -  *  -  *  -  *  \n",
      "   _________________________\n",
      "\n"
     ]
    },
    {
     "name": "stderr",
     "output_type": "stream",
     "text": [
      "192.168.1.7 - - [18/Mar/2024 20:07:26] \"POST /move HTTP/1.1\" 200 -\n"
     ]
    },
    {
     "name": "stdout",
     "output_type": "stream",
     "text": [
      "   0  1  2  3  4  5  6  \n",
      "   ________________________\n",
      "0| *  -  *  -  *  -  *  \n",
      "1| |  9  |  6  |  7  |  \n",
      "2| *  -  *  -  *  -  *  \n",
      "3| |  5     8     7  |  \n",
      "4| *  -  *  -  *     *  \n",
      "5| |  7  |  4  |  3  |  \n",
      "6| *  -  *  -  *  -  *  \n",
      "   _________________________\n",
      "\n"
     ]
    },
    {
     "name": "stderr",
     "output_type": "stream",
     "text": [
      "192.168.1.7 - - [18/Mar/2024 20:07:27] \"POST /move HTTP/1.1\" 200 -\n"
     ]
    },
    {
     "name": "stdout",
     "output_type": "stream",
     "text": [
      "   0  1  2  3  4  5  6  \n",
      "   ________________________\n",
      "0| *  -  *  -  *  -  *  \n",
      "1| |  9  |  6  |  7  |  \n",
      "2| *  -  *  -  *  -  *  \n",
      "3| |  5  |  8     7  |  \n",
      "4| *  -  *  -  *     *  \n",
      "5| |  7  |  4  |  3  |  \n",
      "6| *  -  *  -  *  -  *  \n",
      "   _________________________\n",
      "\n"
     ]
    },
    {
     "name": "stderr",
     "output_type": "stream",
     "text": [
      "192.168.1.7 - - [18/Mar/2024 20:07:28] \"POST /move HTTP/1.1\" 200 -\n"
     ]
    },
    {
     "name": "stdout",
     "output_type": "stream",
     "text": [
      "   0  1  2  3  4  5  6  \n",
      "   ________________________\n",
      "0| *  -  *  -  *  -  *  \n",
      "1| |  9  |  6  |  7  |  \n",
      "2| *  -  *  -  *  -  *  \n",
      "3| |  5  |  8  |  7  |  \n",
      "4| *  -  *  -  *     *  \n",
      "5| |  7  |  4  |  3  |  \n",
      "6| *  -  *  -  *  -  *  \n",
      "   _________________________\n",
      "\n"
     ]
    },
    {
     "name": "stderr",
     "output_type": "stream",
     "text": [
      "192.168.1.7 - - [18/Mar/2024 20:07:29] \"POST /move HTTP/1.1\" 200 -\n"
     ]
    },
    {
     "name": "stdout",
     "output_type": "stream",
     "text": [
      "   0  1  2  3  4  5  6  \n",
      "   ________________________\n",
      "0| *  -  *  -  *  -  *  \n",
      "1| |  9  |  6  |  7  |  \n",
      "2| *  -  *  -  *  -  *  \n",
      "3| |  5  |  8  |  7  |  \n",
      "4| *  -  *  -  *  -  *  \n",
      "5| |  7  |  4  |  3  |  \n",
      "6| *  -  *  -  *  -  *  \n",
      "   _________________________\n",
      "\n"
     ]
    },
    {
     "name": "stderr",
     "output_type": "stream",
     "text": [
      "192.168.1.7 - - [18/Mar/2024 20:08:32] \"POST /start HTTP/1.1\" 200 -\n"
     ]
    },
    {
     "name": "stdout",
     "output_type": "stream",
     "text": [
      "   0  1  2  3  4  5  6  \n",
      "   ________________________\n",
      "0| *     *     *     *  \n",
      "1|    1     3     5     \n",
      "2| *     *     *     *  \n",
      "3|    2     9     1     \n",
      "4| *     *     *     *  \n",
      "5|    8     5     4     \n",
      "6| *     *     *     *  \n",
      "   _________________________\n",
      "\n"
     ]
    },
    {
     "name": "stderr",
     "output_type": "stream",
     "text": [
      "192.168.1.7 - - [18/Mar/2024 20:08:33] \"POST /move HTTP/1.1\" 200 -\n"
     ]
    },
    {
     "name": "stdout",
     "output_type": "stream",
     "text": [
      "   0  1  2  3  4  5  6  \n",
      "   ________________________\n",
      "0| *  -  *     *     *  \n",
      "1|    1     3     5     \n",
      "2| *     *  -  *     *  \n",
      "3|    2     9     1     \n",
      "4| *     *     *     *  \n",
      "5|    8     5     4     \n",
      "6| *     *     *     *  \n",
      "   _________________________\n",
      "\n"
     ]
    },
    {
     "name": "stderr",
     "output_type": "stream",
     "text": [
      "192.168.1.7 - - [18/Mar/2024 20:08:34] \"POST /move HTTP/1.1\" 200 -\n"
     ]
    },
    {
     "name": "stdout",
     "output_type": "stream",
     "text": [
      "   0  1  2  3  4  5  6  \n",
      "   ________________________\n",
      "0| *  -  *  -  *     *  \n",
      "1|    1     3     5     \n",
      "2| *     *  -  *     *  \n",
      "3|    2     9     1     \n",
      "4| *     *  -  *     *  \n",
      "5|    8     5     4     \n",
      "6| *     *     *     *  \n",
      "   _________________________\n",
      "\n"
     ]
    },
    {
     "name": "stderr",
     "output_type": "stream",
     "text": [
      "192.168.1.7 - - [18/Mar/2024 20:08:35] \"POST /move HTTP/1.1\" 200 -\n"
     ]
    },
    {
     "name": "stdout",
     "output_type": "stream",
     "text": [
      "   0  1  2  3  4  5  6  \n",
      "   ________________________\n",
      "0| *  -  *  -  *  -  *  \n",
      "1|    1     3     5     \n",
      "2| *     *  -  *     *  \n",
      "3|    2     9     1     \n",
      "4| *     *  -  *     *  \n",
      "5|    8     5     4     \n",
      "6| *     *  -  *     *  \n",
      "   _________________________\n",
      "\n"
     ]
    },
    {
     "name": "stderr",
     "output_type": "stream",
     "text": [
      "192.168.1.7 - - [18/Mar/2024 20:08:37] \"POST /move HTTP/1.1\" 200 -\n"
     ]
    },
    {
     "name": "stdout",
     "output_type": "stream",
     "text": [
      "   0  1  2  3  4  5  6  \n",
      "   ________________________\n",
      "0| *  -  *  -  *  -  *  \n",
      "1| |  1     3     5     \n",
      "2| *     *  -  *     *  \n",
      "3|    2     9     1     \n",
      "4| *     *  -  *     *  \n",
      "5|    8     5     4     \n",
      "6| *     *  -  *  -  *  \n",
      "   _________________________\n",
      "\n"
     ]
    },
    {
     "name": "stderr",
     "output_type": "stream",
     "text": [
      "192.168.1.7 - - [18/Mar/2024 20:08:38] \"POST /move HTTP/1.1\" 200 -\n"
     ]
    },
    {
     "name": "stdout",
     "output_type": "stream",
     "text": [
      "   0  1  2  3  4  5  6  \n",
      "   ________________________\n",
      "0| *  -  *  -  *  -  *  \n",
      "1| |  1     3     5  |  \n",
      "2| *     *  -  *     *  \n",
      "3|    2     9     1     \n",
      "4| *     *  -  *     *  \n",
      "5|    8     5     4  |  \n",
      "6| *     *  -  *  -  *  \n",
      "   _________________________\n",
      "\n"
     ]
    },
    {
     "name": "stderr",
     "output_type": "stream",
     "text": [
      "192.168.1.7 - - [18/Mar/2024 20:08:40] \"POST /move HTTP/1.1\" 200 -\n"
     ]
    },
    {
     "name": "stdout",
     "output_type": "stream",
     "text": [
      "   0  1  2  3  4  5  6  \n",
      "   ________________________\n",
      "0| *  -  *  -  *  -  *  \n",
      "1| |  1     3     5  |  \n",
      "2| *     *  -  *     *  \n",
      "3| |  2     9     1  |  \n",
      "4| *     *  -  *     *  \n",
      "5|    8     5     4  |  \n",
      "6| *     *  -  *  -  *  \n",
      "   _________________________\n",
      "\n"
     ]
    },
    {
     "name": "stderr",
     "output_type": "stream",
     "text": [
      "192.168.1.7 - - [18/Mar/2024 20:08:42] \"POST /move HTTP/1.1\" 200 -\n"
     ]
    },
    {
     "name": "stdout",
     "output_type": "stream",
     "text": [
      "   0  1  2  3  4  5  6  \n",
      "   ________________________\n",
      "0| *  -  *  -  *  -  *  \n",
      "1| |  1     3     5  |  \n",
      "2| *     *  -  *     *  \n",
      "3| |  2     9     1  |  \n",
      "4| *  -  *  -  *     *  \n",
      "5| |  8     5     4  |  \n",
      "6| *     *  -  *  -  *  \n",
      "   _________________________\n",
      "\n"
     ]
    },
    {
     "name": "stderr",
     "output_type": "stream",
     "text": [
      "192.168.1.7 - - [18/Mar/2024 20:08:44] \"POST /move HTTP/1.1\" 200 -\n"
     ]
    },
    {
     "name": "stdout",
     "output_type": "stream",
     "text": [
      "   0  1  2  3  4  5  6  \n",
      "   ________________________\n",
      "0| *  -  *  -  *  -  *  \n",
      "1| |  1     3     5  |  \n",
      "2| *     *  -  *     *  \n",
      "3| |  2     9     1  |  \n",
      "4| *  -  *  -  *     *  \n",
      "5| |  8  |  5     4  |  \n",
      "6| *  -  *  -  *  -  *  \n",
      "   _________________________\n",
      "\n"
     ]
    },
    {
     "name": "stderr",
     "output_type": "stream",
     "text": [
      "192.168.1.7 - - [18/Mar/2024 20:08:45] \"POST /move HTTP/1.1\" 200 -\n"
     ]
    },
    {
     "name": "stdout",
     "output_type": "stream",
     "text": [
      "   0  1  2  3  4  5  6  \n",
      "   ________________________\n",
      "0| *  -  *  -  *  -  *  \n",
      "1| |  1     3     5  |  \n",
      "2| *     *  -  *     *  \n",
      "3| |  2     9     1  |  \n",
      "4| *  -  *  -  *     *  \n",
      "5| |  8  |  5  |  4  |  \n",
      "6| *  -  *  -  *  -  *  \n",
      "   _________________________\n",
      "\n"
     ]
    },
    {
     "name": "stderr",
     "output_type": "stream",
     "text": [
      "192.168.1.7 - - [18/Mar/2024 20:08:46] \"POST /move HTTP/1.1\" 200 -\n"
     ]
    },
    {
     "name": "stdout",
     "output_type": "stream",
     "text": [
      "   0  1  2  3  4  5  6  \n",
      "   ________________________\n",
      "0| *  -  *  -  *  -  *  \n",
      "1| |  1     3     5  |  \n",
      "2| *     *  -  *     *  \n",
      "3| |  2     9     1  |  \n",
      "4| *  -  *  -  *  -  *  \n",
      "5| |  8  |  5  |  4  |  \n",
      "6| *  -  *  -  *  -  *  \n",
      "   _________________________\n",
      "\n"
     ]
    },
    {
     "name": "stderr",
     "output_type": "stream",
     "text": [
      "192.168.1.7 - - [18/Mar/2024 20:08:47] \"POST /move HTTP/1.1\" 200 -\n"
     ]
    },
    {
     "name": "stdout",
     "output_type": "stream",
     "text": [
      "   0  1  2  3  4  5  6  \n",
      "   ________________________\n",
      "0| *  -  *  -  *  -  *  \n",
      "1| |  1     3     5  |  \n",
      "2| *  -  *  -  *     *  \n",
      "3| |  2     9     1  |  \n",
      "4| *  -  *  -  *  -  *  \n",
      "5| |  8  |  5  |  4  |  \n",
      "6| *  -  *  -  *  -  *  \n",
      "   _________________________\n",
      "\n"
     ]
    },
    {
     "name": "stderr",
     "output_type": "stream",
     "text": [
      "192.168.1.7 - - [18/Mar/2024 20:08:49] \"POST /move HTTP/1.1\" 200 -\n"
     ]
    },
    {
     "name": "stdout",
     "output_type": "stream",
     "text": [
      "   0  1  2  3  4  5  6  \n",
      "   ________________________\n",
      "0| *  -  *  -  *  -  *  \n",
      "1| |  1     3  |  5  |  \n",
      "2| *  -  *  -  *  -  *  \n",
      "3| |  2     9     1  |  \n",
      "4| *  -  *  -  *  -  *  \n",
      "5| |  8  |  5  |  4  |  \n",
      "6| *  -  *  -  *  -  *  \n",
      "   _________________________\n",
      "\n"
     ]
    },
    {
     "name": "stderr",
     "output_type": "stream",
     "text": [
      "192.168.1.7 - - [18/Mar/2024 20:08:50] \"POST /move HTTP/1.1\" 200 -\n"
     ]
    },
    {
     "name": "stdout",
     "output_type": "stream",
     "text": [
      "   0  1  2  3  4  5  6  \n",
      "   ________________________\n",
      "0| *  -  *  -  *  -  *  \n",
      "1| |  1  |  3  |  5  |  \n",
      "2| *  -  *  -  *  -  *  \n",
      "3| |  2     9     1  |  \n",
      "4| *  -  *  -  *  -  *  \n",
      "5| |  8  |  5  |  4  |  \n",
      "6| *  -  *  -  *  -  *  \n",
      "   _________________________\n",
      "\n"
     ]
    },
    {
     "name": "stderr",
     "output_type": "stream",
     "text": [
      "192.168.1.7 - - [18/Mar/2024 20:08:51] \"POST /move HTTP/1.1\" 200 -\n"
     ]
    },
    {
     "name": "stdout",
     "output_type": "stream",
     "text": [
      "   0  1  2  3  4  5  6  \n",
      "   ________________________\n",
      "0| *  -  *  -  *  -  *  \n",
      "1| |  1  |  3  |  5  |  \n",
      "2| *  -  *  -  *  -  *  \n",
      "3| |  2  |  9     1  |  \n",
      "4| *  -  *  -  *  -  *  \n",
      "5| |  8  |  5  |  4  |  \n",
      "6| *  -  *  -  *  -  *  \n",
      "   _________________________\n",
      "\n"
     ]
    },
    {
     "name": "stderr",
     "output_type": "stream",
     "text": [
      "192.168.1.7 - - [18/Mar/2024 20:08:52] \"POST /move HTTP/1.1\" 200 -\n"
     ]
    },
    {
     "name": "stdout",
     "output_type": "stream",
     "text": [
      "   0  1  2  3  4  5  6  \n",
      "   ________________________\n",
      "0| *  -  *  -  *  -  *  \n",
      "1| |  1  |  3  |  5  |  \n",
      "2| *  -  *  -  *  -  *  \n",
      "3| |  2  |  9  |  1  |  \n",
      "4| *  -  *  -  *  -  *  \n",
      "5| |  8  |  5  |  4  |  \n",
      "6| *  -  *  -  *  -  *  \n",
      "   _________________________\n",
      "\n"
     ]
    },
    {
     "name": "stderr",
     "output_type": "stream",
     "text": [
      "192.168.1.7 - - [18/Mar/2024 20:09:04] \"POST /start HTTP/1.1\" 200 -\n"
     ]
    },
    {
     "name": "stdout",
     "output_type": "stream",
     "text": [
      "   0  1  2  3  4  5  6  \n",
      "   ________________________\n",
      "0| *     *     *     *  \n",
      "1|    8     8     2     \n",
      "2| *     *     *     *  \n",
      "3|    2     4     7     \n",
      "4| *     *     *     *  \n",
      "5|    5     4     9     \n",
      "6| *     *     *     *  \n",
      "   _________________________\n",
      "\n"
     ]
    },
    {
     "name": "stderr",
     "output_type": "stream",
     "text": [
      "192.168.1.7 - - [18/Mar/2024 20:09:21] \"POST /move HTTP/1.1\" 200 -\n"
     ]
    },
    {
     "name": "stdout",
     "output_type": "stream",
     "text": [
      "   0  1  2  3  4  5  6  \n",
      "   ________________________\n",
      "0| *  -  *  -  *     *  \n",
      "1|    8     8     2     \n",
      "2| *     *     *     *  \n",
      "3|    2     4     7     \n",
      "4| *     *     *     *  \n",
      "5|    5     4     9     \n",
      "6| *     *     *     *  \n",
      "   _________________________\n",
      "\n"
     ]
    },
    {
     "name": "stderr",
     "output_type": "stream",
     "text": [
      "192.168.1.7 - - [18/Mar/2024 20:09:22] \"POST /move HTTP/1.1\" 200 -\n"
     ]
    },
    {
     "name": "stdout",
     "output_type": "stream",
     "text": [
      "   0  1  2  3  4  5  6  \n",
      "   ________________________\n",
      "0| *  -  *  -  *  -  *  \n",
      "1|    8     8     2     \n",
      "2| *     *  -  *     *  \n",
      "3|    2     4     7     \n",
      "4| *     *     *     *  \n",
      "5|    5     4     9     \n",
      "6| *     *     *     *  \n",
      "   _________________________\n",
      "\n"
     ]
    },
    {
     "name": "stderr",
     "output_type": "stream",
     "text": [
      "192.168.1.7 - - [18/Mar/2024 20:09:25] \"POST /move HTTP/1.1\" 200 -\n"
     ]
    },
    {
     "name": "stdout",
     "output_type": "stream",
     "text": [
      "   0  1  2  3  4  5  6  \n",
      "   ________________________\n",
      "0| *  -  *  -  *  -  *  \n",
      "1| |  8     8     2     \n",
      "2| *     *  -  *     *  \n",
      "3|    2     4     7     \n",
      "4| *     *  -  *     *  \n",
      "5|    5     4     9     \n",
      "6| *     *     *     *  \n",
      "   _________________________\n",
      "\n"
     ]
    },
    {
     "name": "stderr",
     "output_type": "stream",
     "text": [
      "192.168.1.7 - - [18/Mar/2024 20:09:26] \"POST /move HTTP/1.1\" 200 -\n"
     ]
    },
    {
     "name": "stdout",
     "output_type": "stream",
     "text": [
      "   0  1  2  3  4  5  6  \n",
      "   ________________________\n",
      "0| *  -  *  -  *  -  *  \n",
      "1| |  8     8     2  |  \n",
      "2| *     *  -  *     *  \n",
      "3|    2     4     7     \n",
      "4| *     *  -  *     *  \n",
      "5|    5     4     9     \n",
      "6| *     *  -  *     *  \n",
      "   _________________________\n",
      "\n"
     ]
    },
    {
     "name": "stderr",
     "output_type": "stream",
     "text": [
      "192.168.1.7 - - [18/Mar/2024 20:09:26] \"POST /move HTTP/1.1\" 200 -\n"
     ]
    },
    {
     "name": "stdout",
     "output_type": "stream",
     "text": [
      "   0  1  2  3  4  5  6  \n",
      "   ________________________\n",
      "0| *  -  *  -  *  -  *  \n",
      "1| |  8     8     2  |  \n",
      "2| *     *  -  *     *  \n",
      "3| |  2     4     7     \n",
      "4| *     *  -  *     *  \n",
      "5|    5     4     9     \n",
      "6| *     *  -  *  -  *  \n",
      "   _________________________\n",
      "\n"
     ]
    },
    {
     "name": "stderr",
     "output_type": "stream",
     "text": [
      "192.168.1.7 - - [18/Mar/2024 20:09:27] \"POST /move HTTP/1.1\" 200 -\n"
     ]
    },
    {
     "name": "stdout",
     "output_type": "stream",
     "text": [
      "   0  1  2  3  4  5  6  \n",
      "   ________________________\n",
      "0| *  -  *  -  *  -  *  \n",
      "1| |  8     8     2  |  \n",
      "2| *     *  -  *     *  \n",
      "3| |  2     4     7  |  \n",
      "4| *     *  -  *     *  \n",
      "5|    5     4     9  |  \n",
      "6| *     *  -  *  -  *  \n",
      "   _________________________\n",
      "\n"
     ]
    },
    {
     "name": "stderr",
     "output_type": "stream",
     "text": [
      "192.168.1.7 - - [18/Mar/2024 20:09:28] \"POST /move HTTP/1.1\" 200 -\n",
      "192.168.1.7 - - [18/Mar/2024 20:09:28] \"POST /move HTTP/1.1\" 200 -\n",
      "192.168.1.7 - - [18/Mar/2024 20:09:28] \"POST /move HTTP/1.1\" 200 -\n"
     ]
    },
    {
     "name": "stdout",
     "output_type": "stream",
     "text": [
      "   0  1  2  3  4  5  6  \n",
      "   ________________________\n",
      "0| *  -  *  -  *  -  *  \n",
      "1| |  8     8     2  |  \n",
      "2| *     *  -  *     *  \n",
      "3| |  2     4     7  |  \n",
      "4| *     *  -  *  -  *  \n",
      "5|    5     4  |  9  |  \n",
      "6| *     *  -  *  -  *  \n",
      "   _________________________\n",
      "\n",
      "   0  1  2  3  4  5  6  \n",
      "   ________________________\n",
      "0| *  -  *  -  *  -  *  \n",
      "1| |  8     8     2  |  \n",
      "2| *     *  -  *     *  \n",
      "3| |  2     4     7  |  \n",
      "4| *     *  -  *  -  *  \n",
      "5|    5  |  4  |  9  |  \n",
      "6| *     *  -  *  -  *  \n",
      "   _________________________\n",
      "\n",
      "   0  1  2  3  4  5  6  \n",
      "   ________________________\n",
      "0| *  -  *  -  *  -  *  \n",
      "1| |  8     8     2  |  \n",
      "2| *     *  -  *     *  \n",
      "3| |  2     4     7  |  \n",
      "4| *  -  *  -  *  -  *  \n",
      "5|    5  |  4  |  9  |  \n",
      "6| *     *  -  *  -  *  \n",
      "   _________________________\n",
      "\n"
     ]
    },
    {
     "name": "stderr",
     "output_type": "stream",
     "text": [
      "192.168.1.7 - - [18/Mar/2024 20:09:29] \"POST /move HTTP/1.1\" 200 -\n",
      "192.168.1.7 - - [18/Mar/2024 20:09:29] \"POST /move HTTP/1.1\" 200 -\n"
     ]
    },
    {
     "name": "stdout",
     "output_type": "stream",
     "text": [
      "   0  1  2  3  4  5  6  \n",
      "   ________________________\n",
      "0| *  -  *  -  *  -  *  \n",
      "1| |  8     8     2  |  \n",
      "2| *     *  -  *     *  \n",
      "3| |  2     4     7  |  \n",
      "4| *  -  *  -  *  -  *  \n",
      "5| |  5  |  4  |  9  |  \n",
      "6| *  -  *  -  *  -  *  \n",
      "   _________________________\n",
      "\n",
      "   0  1  2  3  4  5  6  \n",
      "   ________________________\n",
      "0| *  -  *  -  *  -  *  \n",
      "1| |  8     8     2  |  \n",
      "2| *     *  -  *     *  \n",
      "3| |  2  |  4     7  |  \n",
      "4| *  -  *  -  *  -  *  \n",
      "5| |  5  |  4  |  9  |  \n",
      "6| *  -  *  -  *  -  *  \n",
      "   _________________________\n",
      "\n"
     ]
    },
    {
     "name": "stderr",
     "output_type": "stream",
     "text": [
      "192.168.1.7 - - [18/Mar/2024 20:09:30] \"POST /move HTTP/1.1\" 200 -\n",
      "192.168.1.7 - - [18/Mar/2024 20:09:30] \"POST /move HTTP/1.1\" 200 -\n",
      "192.168.1.7 - - [18/Mar/2024 20:09:31] \"POST /move HTTP/1.1\" 200 -\n",
      "192.168.1.7 - - [18/Mar/2024 20:09:31] \"POST /move HTTP/1.1\" 200 -\n"
     ]
    },
    {
     "name": "stdout",
     "output_type": "stream",
     "text": [
      "   0  1  2  3  4  5  6  \n",
      "   ________________________\n",
      "0| *  -  *  -  *  -  *  \n",
      "1| |  8     8     2  |  \n",
      "2| *     *  -  *  -  *  \n",
      "3| |  2  |  4  |  7  |  \n",
      "4| *  -  *  -  *  -  *  \n",
      "5| |  5  |  4  |  9  |  \n",
      "6| *  -  *  -  *  -  *  \n",
      "   _________________________\n",
      "\n",
      "   0  1  2  3  4  5  6  \n",
      "   ________________________\n",
      "0| *  -  *  -  *  -  *  \n",
      "1| |  8     8  |  2  |  \n",
      "2| *     *  -  *  -  *  \n",
      "3| |  2  |  4  |  7  |  \n",
      "4| *  -  *  -  *  -  *  \n",
      "5| |  5  |  4  |  9  |  \n",
      "6| *  -  *  -  *  -  *  \n",
      "   _________________________\n",
      "\n",
      "   0  1  2  3  4  5  6  \n",
      "   ________________________\n",
      "0| *  -  *  -  *  -  *  \n",
      "1| |  8  |  8  |  2  |  \n",
      "2| *     *  -  *  -  *  \n",
      "3| |  2  |  4  |  7  |  \n",
      "4| *  -  *  -  *  -  *  \n",
      "5| |  5  |  4  |  9  |  \n",
      "6| *  -  *  -  *  -  *  \n",
      "   _________________________\n",
      "\n",
      "   0  1  2  3  4  5  6  \n",
      "   ________________________\n",
      "0| *  -  *  -  *  -  *  \n",
      "1| |  8  |  8  |  2  |  \n",
      "2| *  -  *  -  *  -  *  \n",
      "3| |  2  |  4  |  7  |  \n",
      "4| *  -  *  -  *  -  *  \n",
      "5| |  5  |  4  |  9  |  \n",
      "6| *  -  *  -  *  -  *  \n",
      "   _________________________\n",
      "\n"
     ]
    },
    {
     "name": "stderr",
     "output_type": "stream",
     "text": [
      "192.168.1.7 - - [18/Mar/2024 20:09:38] \"POST /start HTTP/1.1\" 200 -\n"
     ]
    },
    {
     "name": "stdout",
     "output_type": "stream",
     "text": [
      "   0  1  2  3  4  5  6  \n",
      "   ________________________\n",
      "0| *     *     *     *  \n",
      "1|    5     2     9     \n",
      "2| *     *     *     *  \n",
      "3|    2     1     3     \n",
      "4| *     *     *     *  \n",
      "5|    4     7     3     \n",
      "6| *     *     *     *  \n",
      "   _________________________\n",
      "\n"
     ]
    },
    {
     "name": "stderr",
     "output_type": "stream",
     "text": [
      "192.168.1.7 - - [18/Mar/2024 20:10:07] \"POST /move HTTP/1.1\" 200 -\n"
     ]
    },
    {
     "name": "stdout",
     "output_type": "stream",
     "text": [
      "   0  1  2  3  4  5  6  \n",
      "   ________________________\n",
      "0| *  -  *     *     *  \n",
      "1|    5     2     9     \n",
      "2| *     *  -  *     *  \n",
      "3|    2     1     3     \n",
      "4| *     *     *     *  \n",
      "5|    4     7     3     \n",
      "6| *     *     *     *  \n",
      "   _________________________\n",
      "\n"
     ]
    },
    {
     "name": "stderr",
     "output_type": "stream",
     "text": [
      "192.168.1.7 - - [18/Mar/2024 20:10:09] \"POST /move HTTP/1.1\" 200 -\n"
     ]
    },
    {
     "name": "stdout",
     "output_type": "stream",
     "text": [
      "   0  1  2  3  4  5  6  \n",
      "   ________________________\n",
      "0| *  -  *  -  *     *  \n",
      "1|    5     2     9     \n",
      "2| *     *  -  *     *  \n",
      "3|    2     1     3     \n",
      "4| *     *  -  *     *  \n",
      "5|    4     7     3     \n",
      "6| *     *     *     *  \n",
      "   _________________________\n",
      "\n"
     ]
    },
    {
     "name": "stderr",
     "output_type": "stream",
     "text": [
      "192.168.1.7 - - [18/Mar/2024 20:10:11] \"POST /move HTTP/1.1\" 200 -\n"
     ]
    },
    {
     "name": "stdout",
     "output_type": "stream",
     "text": [
      "   0  1  2  3  4  5  6  \n",
      "   ________________________\n",
      "0| *  -  *  -  *  -  *  \n",
      "1|    5     2     9     \n",
      "2| *     *  -  *     *  \n",
      "3|    2     1     3     \n",
      "4| *     *  -  *     *  \n",
      "5|    4     7     3     \n",
      "6| *     *  -  *     *  \n",
      "   _________________________\n",
      "\n"
     ]
    },
    {
     "name": "stderr",
     "output_type": "stream",
     "text": [
      "192.168.1.7 - - [18/Mar/2024 20:10:13] \"POST /move HTTP/1.1\" 200 -\n"
     ]
    },
    {
     "name": "stdout",
     "output_type": "stream",
     "text": [
      "   0  1  2  3  4  5  6  \n",
      "   ________________________\n",
      "0| *  -  *  -  *  -  *  \n",
      "1| |  5     2     9     \n",
      "2| *     *  -  *     *  \n",
      "3|    2     1     3     \n",
      "4| *     *  -  *     *  \n",
      "5|    4     7     3     \n",
      "6| *     *  -  *  -  *  \n",
      "   _________________________\n",
      "\n"
     ]
    },
    {
     "name": "stderr",
     "output_type": "stream",
     "text": [
      "192.168.1.7 - - [18/Mar/2024 20:10:15] \"POST /move HTTP/1.1\" 200 -\n"
     ]
    },
    {
     "name": "stdout",
     "output_type": "stream",
     "text": [
      "   0  1  2  3  4  5  6  \n",
      "   ________________________\n",
      "0| *  -  *  -  *  -  *  \n",
      "1| |  5     2     9  |  \n",
      "2| *     *  -  *     *  \n",
      "3|    2     1     3     \n",
      "4| *     *  -  *     *  \n",
      "5|    4     7     3  |  \n",
      "6| *     *  -  *  -  *  \n",
      "   _________________________\n",
      "\n"
     ]
    },
    {
     "name": "stderr",
     "output_type": "stream",
     "text": [
      "192.168.1.7 - - [18/Mar/2024 20:10:16] \"POST /move HTTP/1.1\" 200 -\n"
     ]
    },
    {
     "name": "stdout",
     "output_type": "stream",
     "text": [
      "   0  1  2  3  4  5  6  \n",
      "   ________________________\n",
      "0| *  -  *  -  *  -  *  \n",
      "1| |  5     2     9  |  \n",
      "2| *     *  -  *     *  \n",
      "3| |  2     1     3  |  \n",
      "4| *     *  -  *     *  \n",
      "5|    4     7     3  |  \n",
      "6| *     *  -  *  -  *  \n",
      "   _________________________\n",
      "\n"
     ]
    },
    {
     "name": "stderr",
     "output_type": "stream",
     "text": [
      "192.168.1.7 - - [18/Mar/2024 20:10:19] \"POST /move HTTP/1.1\" 200 -\n"
     ]
    },
    {
     "name": "stdout",
     "output_type": "stream",
     "text": [
      "   0  1  2  3  4  5  6  \n",
      "   ________________________\n",
      "0| *  -  *  -  *  -  *  \n",
      "1| |  5     2     9  |  \n",
      "2| *     *  -  *     *  \n",
      "3| |  2     1     3  |  \n",
      "4| *  -  *  -  *     *  \n",
      "5| |  4     7     3  |  \n",
      "6| *     *  -  *  -  *  \n",
      "   _________________________\n",
      "\n"
     ]
    },
    {
     "name": "stderr",
     "output_type": "stream",
     "text": [
      "192.168.1.7 - - [18/Mar/2024 20:10:30] \"POST /move HTTP/1.1\" 200 -\n"
     ]
    },
    {
     "name": "stdout",
     "output_type": "stream",
     "text": [
      "   0  1  2  3  4  5  6  \n",
      "   ________________________\n",
      "0| *  -  *  -  *  -  *  \n",
      "1| |  5     2  |  9  |  \n",
      "2| *     *  -  *  -  *  \n",
      "3| |  2     1     3  |  \n",
      "4| *  -  *  -  *     *  \n",
      "5| |  4     7     3  |  \n",
      "6| *     *  -  *  -  *  \n",
      "   _________________________\n",
      "\n"
     ]
    },
    {
     "name": "stderr",
     "output_type": "stream",
     "text": [
      "192.168.1.7 - - [18/Mar/2024 20:10:31] \"POST /move HTTP/1.1\" 200 -\n"
     ]
    },
    {
     "name": "stdout",
     "output_type": "stream",
     "text": [
      "   0  1  2  3  4  5  6  \n",
      "   ________________________\n",
      "0| *  -  *  -  *  -  *  \n",
      "1| |  5     2  |  9  |  \n",
      "2| *     *  -  *  -  *  \n",
      "3| |  2  |  1     3  |  \n",
      "4| *  -  *  -  *     *  \n",
      "5| |  4     7     3  |  \n",
      "6| *     *  -  *  -  *  \n",
      "   _________________________\n",
      "\n"
     ]
    },
    {
     "name": "stderr",
     "output_type": "stream",
     "text": [
      "192.168.1.7 - - [18/Mar/2024 20:11:02] \"POST /start HTTP/1.1\" 200 -\n"
     ]
    },
    {
     "name": "stdout",
     "output_type": "stream",
     "text": [
      "   0  1  2  3  4  5  6  \n",
      "   ________________________\n",
      "0| *     *     *     *  \n",
      "1|    3     1     2     \n",
      "2| *     *     *     *  \n",
      "3|    1     8     5     \n",
      "4| *     *     *     *  \n",
      "5|    9     1     8     \n",
      "6| *     *     *     *  \n",
      "   _________________________\n",
      "\n"
     ]
    },
    {
     "name": "stderr",
     "output_type": "stream",
     "text": [
      "192.168.1.7 - - [18/Mar/2024 20:11:33] \"POST /move HTTP/1.1\" 200 -\n"
     ]
    },
    {
     "name": "stdout",
     "output_type": "stream",
     "text": [
      "   0  1  2  3  4  5  6  \n",
      "   ________________________\n",
      "0| *  -  *  -  *     *  \n",
      "1|    3     1     2     \n",
      "2| *     *     *     *  \n",
      "3|    1     8     5     \n",
      "4| *     *     *     *  \n",
      "5|    9     1     8     \n",
      "6| *     *     *     *  \n",
      "   _________________________\n",
      "\n"
     ]
    },
    {
     "name": "stderr",
     "output_type": "stream",
     "text": [
      "192.168.1.7 - - [18/Mar/2024 20:11:38] \"POST /move HTTP/1.1\" 200 -\n"
     ]
    },
    {
     "name": "stdout",
     "output_type": "stream",
     "text": [
      "   0  1  2  3  4  5  6  \n",
      "   ________________________\n",
      "0| *  -  *  -  *  -  *  \n",
      "1|    3     1     2     \n",
      "2| *     *     *     *  \n",
      "3|    1     8     5     \n",
      "4| *     *  -  *     *  \n",
      "5|    9     1     8     \n",
      "6| *     *     *     *  \n",
      "   _________________________\n",
      "\n"
     ]
    },
    {
     "name": "stderr",
     "output_type": "stream",
     "text": [
      "192.168.1.7 - - [18/Mar/2024 20:11:42] \"POST /move HTTP/1.1\" 200 -\n"
     ]
    },
    {
     "name": "stdout",
     "output_type": "stream",
     "text": [
      "   0  1  2  3  4  5  6  \n",
      "   ________________________\n",
      "0| *  -  *  -  *  -  *  \n",
      "1| |  3     1     2     \n",
      "2| *     *     *     *  \n",
      "3|    1     8     5     \n",
      "4| *     *  -  *     *  \n",
      "5|    9     1     8     \n",
      "6| *     *     *  -  *  \n",
      "   _________________________\n",
      "\n"
     ]
    },
    {
     "name": "stderr",
     "output_type": "stream",
     "text": [
      "192.168.1.7 - - [18/Mar/2024 20:11:45] \"POST /move HTTP/1.1\" 200 -\n"
     ]
    },
    {
     "name": "stdout",
     "output_type": "stream",
     "text": [
      "   0  1  2  3  4  5  6  \n",
      "   ________________________\n",
      "0| *  -  *  -  *  -  *  \n",
      "1| |  3     1     2  |  \n",
      "2| *     *     *     *  \n",
      "3|    1     8     5     \n",
      "4| *     *  -  *     *  \n",
      "5|    9     1     8     \n",
      "6| *  -  *     *  -  *  \n",
      "   _________________________\n",
      "\n"
     ]
    },
    {
     "name": "stderr",
     "output_type": "stream",
     "text": [
      "192.168.1.7 - - [18/Mar/2024 20:11:47] \"POST /move HTTP/1.1\" 200 -\n"
     ]
    },
    {
     "name": "stdout",
     "output_type": "stream",
     "text": [
      "   0  1  2  3  4  5  6  \n",
      "   ________________________\n",
      "0| *  -  *  -  *  -  *  \n",
      "1| |  3     1     2  |  \n",
      "2| *     *  -  *     *  \n",
      "3|    1     8     5     \n",
      "4| *     *  -  *     *  \n",
      "5| |  9     1     8     \n",
      "6| *  -  *     *  -  *  \n",
      "   _________________________\n",
      "\n"
     ]
    },
    {
     "name": "stderr",
     "output_type": "stream",
     "text": [
      "192.168.1.7 - - [18/Mar/2024 20:11:50] \"POST /move HTTP/1.1\" 200 -\n"
     ]
    },
    {
     "name": "stdout",
     "output_type": "stream",
     "text": [
      "   0  1  2  3  4  5  6  \n",
      "   ________________________\n",
      "0| *  -  *  -  *  -  *  \n",
      "1| |  3     1     2  |  \n",
      "2| *     *  -  *     *  \n",
      "3| |  1     8     5     \n",
      "4| *     *  -  *  -  *  \n",
      "5| |  9     1     8     \n",
      "6| *  -  *     *  -  *  \n",
      "   _________________________\n",
      "\n"
     ]
    },
    {
     "name": "stderr",
     "output_type": "stream",
     "text": [
      "192.168.1.7 - - [18/Mar/2024 20:11:53] \"POST /move HTTP/1.1\" 200 -\n"
     ]
    },
    {
     "name": "stdout",
     "output_type": "stream",
     "text": [
      "   0  1  2  3  4  5  6  \n",
      "   ________________________\n",
      "0| *  -  *  -  *  -  *  \n",
      "1| |  3     1     2  |  \n",
      "2| *     *  -  *     *  \n",
      "3| |  1     8     5  |  \n",
      "4| *     *  -  *  -  *  \n",
      "5| |  9     1     8     \n",
      "6| *  -  *  -  *  -  *  \n",
      "   _________________________\n",
      "\n"
     ]
    },
    {
     "name": "stderr",
     "output_type": "stream",
     "text": [
      "192.168.1.7 - - [18/Mar/2024 20:11:56] \"POST /move HTTP/1.1\" 200 -\n"
     ]
    },
    {
     "name": "stdout",
     "output_type": "stream",
     "text": [
      "   0  1  2  3  4  5  6  \n",
      "   ________________________\n",
      "0| *  -  *  -  *  -  *  \n",
      "1| |  3     1     2  |  \n",
      "2| *     *  -  *     *  \n",
      "3| |  1     8     5  |  \n",
      "4| *     *  -  *  -  *  \n",
      "5| |  9     1  |  8  |  \n",
      "6| *  -  *  -  *  -  *  \n",
      "   _________________________\n",
      "\n"
     ]
    },
    {
     "name": "stderr",
     "output_type": "stream",
     "text": [
      "192.168.1.7 - - [18/Mar/2024 20:11:57] \"POST /move HTTP/1.1\" 200 -\n"
     ]
    },
    {
     "name": "stdout",
     "output_type": "stream",
     "text": [
      "   0  1  2  3  4  5  6  \n",
      "   ________________________\n",
      "0| *  -  *  -  *  -  *  \n",
      "1| |  3  |  1     2  |  \n",
      "2| *     *  -  *     *  \n",
      "3| |  1     8     5  |  \n",
      "4| *     *  -  *  -  *  \n",
      "5| |  9     1  |  8  |  \n",
      "6| *  -  *  -  *  -  *  \n",
      "   _________________________\n",
      "\n"
     ]
    },
    {
     "name": "stderr",
     "output_type": "stream",
     "text": [
      "192.168.1.7 - - [18/Mar/2024 20:12:16] \"POST /start HTTP/1.1\" 200 -\n"
     ]
    },
    {
     "name": "stdout",
     "output_type": "stream",
     "text": [
      "   0  1  2  3  4  5  6  \n",
      "   ________________________\n",
      "0| *     *     *     *  \n",
      "1|    3     6     4     \n",
      "2| *     *     *     *  \n",
      "3|    8     8     1     \n",
      "4| *     *     *     *  \n",
      "5|    3     8     8     \n",
      "6| *     *     *     *  \n",
      "   _________________________\n",
      "\n"
     ]
    },
    {
     "name": "stderr",
     "output_type": "stream",
     "text": [
      "192.168.1.7 - - [18/Mar/2024 20:12:34] \"POST /start HTTP/1.1\" 200 -\n"
     ]
    },
    {
     "name": "stdout",
     "output_type": "stream",
     "text": [
      "   0  1  2  3  4  5  6  \n",
      "   ________________________\n",
      "0| *     *     *     *  \n",
      "1|    5     6     1     \n",
      "2| *     *     *     *  \n",
      "3|    9     1     3     \n",
      "4| *     *     *     *  \n",
      "5|    4     2     9     \n",
      "6| *     *     *     *  \n",
      "   _________________________\n",
      "\n"
     ]
    },
    {
     "name": "stderr",
     "output_type": "stream",
     "text": [
      "192.168.1.7 - - [18/Mar/2024 20:13:54] \"POST /start HTTP/1.1\" 200 -\n",
      "192.168.1.7 - - [18/Mar/2024 20:13:54] \"POST /start HTTP/1.1\" 200 -\n"
     ]
    },
    {
     "name": "stdout",
     "output_type": "stream",
     "text": [
      "   0  1  2  3  4  5  6  \n",
      "   ________________________\n",
      "0| *     *     *     *  \n",
      "1|    4     4     2     \n",
      "2| *     *     *     *  \n",
      "3|    5     3     3     \n",
      "4| *     *     *     *  \n",
      "5|    7     7     8     \n",
      "6| *     *     *     *  \n",
      "   _________________________\n",
      "\n",
      "   0  1  2  3  4  5  6  \n",
      "   ________________________\n",
      "0| *     *     *     *  \n",
      "1|    7     4     1     \n",
      "2| *     *     *     *  \n",
      "3|    9     5     4     \n",
      "4| *     *     *     *  \n",
      "5|    4     2     6     \n",
      "6| *     *     *     *  \n",
      "   _________________________\n",
      "\n"
     ]
    },
    {
     "name": "stderr",
     "output_type": "stream",
     "text": [
      "192.168.1.7 - - [18/Mar/2024 20:14:55] \"POST /start HTTP/1.1\" 200 -\n"
     ]
    },
    {
     "name": "stdout",
     "output_type": "stream",
     "text": [
      "   0  1  2  3  4  5  6  \n",
      "   ________________________\n",
      "0| *     *     *     *  \n",
      "1|    4     1     6     \n",
      "2| *     *     *     *  \n",
      "3|    2     9     4     \n",
      "4| *     *     *     *  \n",
      "5|    5     9     3     \n",
      "6| *     *     *     *  \n",
      "   _________________________\n",
      "\n"
     ]
    }
   ],
   "source": [
    "from flask import Flask, request, jsonify\n",
    "from random import *\n",
    "import collections\n",
    "from Algorithm import *\n",
    "from Board import *\n",
    "from Nodes import *\n",
    "\n",
    "app = Flask(__name__)\n",
    "\n",
    "class DotsNBoxes: \n",
    "    def __init__(self, Board_Xdim, Board_Ydim, Ply_num):\n",
    "        currentState = Game([], Board_Xdim, Board_Ydim)\n",
    "        currentState.Initiate()\n",
    "        self.State = Thing(currentState)\n",
    "        self.Ply_num = Ply_num\n",
    "        self.Score = 0\n",
    "\n",
    "    def start_game(self, board_rows, board_cols, ply_num):\n",
    "        self.State.Draw()\n",
    "        self.Ply_num = ply_num\n",
    "        return {\"message\": \"Game started!\"}\n",
    "\n",
    "    def make_move(self, human_x, human_y):\n",
    "        if (human_x, human_y) not in self.State.children:\n",
    "            self.State.Make(human_x, human_y, False)\n",
    "            self.State = self.State.children[(human_x, human_y)]\n",
    "        else:\n",
    "            self.State = self.State.children[(human_x, human_y)]\n",
    "        result = self.computer_move()\n",
    "        self.State.Draw()\n",
    "        return result\n",
    "\n",
    "    def computer_move(self):\n",
    "        move = Algo.miniMax(self.State, self.Ply_num)\n",
    "        self.State = self.State.children[(move[0], move[1])]\n",
    "        return {\n",
    "            \"computer_move\": {\n",
    "                \"x\": move[0],\n",
    "                \"y\": move[1]\n",
    "            },\n",
    "            \"current_score\": self.State.CurrentScore\n",
    "        }\n",
    "\n",
    "\n",
    "game=None\n",
    "@app.route(\"/start\", methods=[\"POST\"])\n",
    "def start_game():\n",
    "    global game\n",
    "    data = request.get_json()\n",
    "    board_rows = data.get(\"board_rows\")\n",
    "    board_cols = data.get(\"board_cols\")\n",
    "    ply_num = data.get(\"ply_num\")\n",
    "    game = DotsNBoxes(board_rows * 2 + 1, board_cols * 2 + 1, ply_num)\n",
    "    return jsonify(game.start_game(board_rows * 2 + 1, board_cols * 2 + 1, ply_num))\n",
    "\n",
    "@app.route(\"/move\", methods=[\"POST\"])\n",
    "def make_move():\n",
    "    global game\n",
    "    data = request.get_json()\n",
    "    human_x = data.get(\"x\")\n",
    "    human_y = data.get(\"y\")\n",
    "\n",
    "    return jsonify(game.make_move(human_x, human_y))\n",
    "\n",
    "if __name__ == \"__main__\":\n",
    "    app.run(host=\"0.0.0.0\", port=4000,)\n"
   ]
  },
  {
   "cell_type": "code",
   "execution_count": null,
   "id": "1649c5de",
   "metadata": {},
   "outputs": [],
   "source": []
  }
 ],
 "metadata": {
  "kernelspec": {
   "display_name": "Python 3 (ipykernel)",
   "language": "python",
   "name": "python3"
  },
  "language_info": {
   "codemirror_mode": {
    "name": "ipython",
    "version": 3
   },
   "file_extension": ".py",
   "mimetype": "text/x-python",
   "name": "python",
   "nbconvert_exporter": "python",
   "pygments_lexer": "ipython3",
   "version": "3.11.4"
  }
 },
 "nbformat": 4,
 "nbformat_minor": 5
}
