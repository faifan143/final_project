{
 "cells": [
  {
   "cell_type": "code",
   "execution_count": null,
   "metadata": {},
   "outputs": [],
   "source": [
    "import math\n",
    "\n",
    "\n",
    "skill_names = [\n",
    "    'Memory', 'Attention', 'Problem Solving', 'Logic', 'Creativity',\n",
    "    'Spatial Reasoning', 'Language', 'Math', 'Visual Processing', 'Decision Making'\n",
    "]\n",
    "\n",
    "class MindGame:\n",
    "    def __init__(self, name, targeted_skills):\n",
    "        self.name = name\n",
    "        self.targeted_skills = targeted_skills\n",
    "        self.skill_vector = [1.0 if skill_name in targeted_skills else 0.0 for skill_name in skill_names]\n",
    "\n",
    "class User:\n",
    "    def __init__(self,skills_scores):\n",
    "        self.skill_scores = {skill_name: 1.0 / len(skill_names) for skill_name in skill_names} if (skills_scores == None or skills_scores == {}) else skills_scores\n",
    "        print(self.skill_scores)\n",
    "\n",
    "    def update_skill_scores(self, game, game_score):\n",
    "        for i, skill_name in enumerate(skill_names):\n",
    "            if skill_name in game.targeted_skills:\n",
    "                self.skill_scores[skill_name] += game.skill_vector[i] * game_score\n",
    "\n",
    "        # Normalize scores to ensure they sum up to 1\n",
    "        score_sum = sum(self.skill_scores.values())\n",
    "        for skill_name in skill_names:\n",
    "            self.skill_scores[skill_name] /= score_sum\n",
    "            self.skill_scores[skill_name] = round(self.skill_scores[skill_name],3)\n",
    "\n",
    "def recommend_games(user):\n",
    "  highest_skill_score = max(user.skill_scores.values())\n",
    "\n",
    "  filtered_games = []\n",
    "  for game in games:\n",
    "      # Check if any of the targeted skills has a score different from the highest skill score\n",
    "      if any(user.skill_scores[skill_name] != highest_skill_score for skill_name in game.targeted_skills):\n",
    "          filtered_games.append(game)\n",
    "\n",
    "  return filtered_games\n",
    "\n",
    "\n",
    "\n",
    "game_sudoku = MindGame('sudoku', ['Attention', 'Problem Solving', 'Logic'])\n",
    "game_missing_word = MindGame('missing_words', ['Language', 'Memory', 'Attention'])\n",
    "game_jigsaw_puzzle = MindGame('jigsaw', ['Spatial Reasoning', 'Attention', 'Problem Solving', 'Creativity'])\n",
    "game_chess = MindGame('chess', ['Logic', 'Spatial Reasoning', 'Decision Making'])\n",
    "game_dots_and_boxes = MindGame('dots_boxes', ['Spatial Reasoning', 'Decision Making'])\n",
    "game_codeforces_problems = MindGame('codeforces', ['Problem Solving', 'Logic', 'Decision Making', 'Math'])\n",
    "game_math_problems = MindGame('math', ['Math', 'Language', 'Logic', 'Problem Solving'])\n",
    "game_connect4 = MindGame('connect4', ['Spatial Reasoning', 'Logic', 'Decision Making'])\n",
    "game_memory_cards = MindGame('memory_cards', ['Memory', 'Attention', 'Visual Processing', 'Problem Solving'])\n",
    "\n",
    "\n",
    "games = [game_sudoku,game_missing_word,game_jigsaw_puzzle,game_chess,game_dots_and_boxes,game_codeforces_problems,game_math_problems,game_connect4,game_memory_cards]\n",
    "\n",
    "gamesMap = {\n",
    "  'sudoku': game_sudoku,\n",
    "  'missing_word': game_missing_word,\n",
    "  'jigsaw': game_jigsaw_puzzle,\n",
    "  'chess': game_chess,\n",
    "  'dots_boxes': game_dots_and_boxes,\n",
    "  'codeforces': game_codeforces_problems,\n",
    "  'math': game_math_problems,\n",
    "  'connect4': game_connect4,\n",
    "  'memory_cards': game_memory_cards\n",
    "}"
   ]
  },
  {
   "cell_type": "code",
   "execution_count": 11,
   "metadata": {},
   "outputs": [
    {
     "name": "stdout",
     "output_type": "stream",
     "text": [
      "{'Memory': 0.1, 'Attention': 0.1, 'Problem Solving': 0.1, 'Logic': 0.1, 'Creativity': 0.1, 'Spatial Reasoning': 0.1, 'Language': 0.1, 'Math': 0.1, 'Visual Processing': 0.1, 'Decision Making': 0.1}\n",
      " * Serving Flask app '__main__'\n",
      " * Debug mode: off\n"
     ]
    },
    {
     "name": "stderr",
     "output_type": "stream",
     "text": [
      "WARNING: This is a development server. Do not use it in a production deployment. Use a production WSGI server instead.\n",
      " * Running on all addresses (0.0.0.0)\n",
      " * Running on http://127.0.0.1:5003\n",
      " * Running on http://10.66.66.6:5003\n",
      "Press CTRL+C to quit\n"
     ]
    }
   ],
   "source": [
    "from flask import Flask, request, jsonify\n",
    "\n",
    "app = Flask(__name__)\n",
    "\n",
    "user = User({})\n",
    "\n",
    "@app.route(\"/recommendation/init\", methods=[\"POST\"])\n",
    "def initializeSkillsScores():\n",
    "    skills_score = request.get_json()[\"skills_score\"]\n",
    "    user = User(skills_scores= skills_score)\n",
    "    return jsonify({\"user\": user.skill_scores})\n",
    "\n",
    "\n",
    "@app.route(\"/recommendation/update_scores\", methods=[\"POST\"])\n",
    "def updateScores():\n",
    "    game_chosen = request.get_json()[\"game_chosen\"]\n",
    "    game_scored = request.get_json()[\"game_score\"]\n",
    "    user.update_skill_scores( game=gamesMap[game_chosen] , game_score= game_scored)\n",
    "    new_skills_score = user.skill_scores\n",
    "    recommended_games = recommend_games(user)\n",
    "    recommend_games_names = [game.name for game in recommended_games]\n",
    "    return jsonify({\"new_skills_score\": new_skills_score , \"recommend_games_names\":recommend_games_names})\n",
    "\n",
    "\n",
    "\n",
    "if __name__ == \"__main__\":\n",
    "    app.run(host=\"0.0.0.0\", port=5003)"
   ]
  },
  {
   "cell_type": "code",
   "execution_count": null,
   "metadata": {},
   "outputs": [],
   "source": []
  }
 ],
 "metadata": {
  "kernelspec": {
   "display_name": "base",
   "language": "python",
   "name": "python3"
  },
  "language_info": {
   "codemirror_mode": {
    "name": "ipython",
    "version": 3
   },
   "file_extension": ".py",
   "mimetype": "text/x-python",
   "name": "python",
   "nbconvert_exporter": "python",
   "pygments_lexer": "ipython3",
   "version": "3.8.18"
  }
 },
 "nbformat": 4,
 "nbformat_minor": 2
}
